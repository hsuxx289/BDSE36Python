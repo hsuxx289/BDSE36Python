{
 "cells": [
  {
   "cell_type": "code",
   "execution_count": null,
   "metadata": {},
   "outputs": [
    {
     "data": {
      "text/plain": [
       "\"When an eel grabs your arm. And it causes great harm. That's - a Moray!\""
      ]
     },
     "execution_count": 3,
     "metadata": {},
     "output_type": "execute_result"
    }
   ],
   "source": [
    "song = \"\"\"When an eel grabs your arm. And it causes great harm. That's - a moray!\"\"\"\n",
    "song.replace(\" m\", \" M\") #replace 會替換所有值"
   ]
  },
  {
   "cell_type": "code",
   "execution_count": 5,
   "metadata": {},
   "outputs": [
    {
     "name": "stdout",
     "output_type": "stream",
     "text": [
      "Q: We don't serve strings around here. Are you a string?\n",
      "A: No, I'm a frayed knot.\n",
      "Q: What is said on Father's Day in the forest?\n",
      "A: 'Pop!' goes the weasel.\n",
      "Q: What makes the sound 'Sis! Boom! Bah!'?\n",
      "A: An exploding sheep.\n"
     ]
    }
   ],
   "source": [
    "questions = [\"We don't serve strings around here. Are you a string?\",\n",
    "            \"What is said on Father's Day in the forest?\",\n",
    "            \"What makes the sound 'Sis! Boom! Bah!'?\"]\n",
    "answers = [\"An exploding sheep.\",\n",
    "           \"No, I'm a frayed knot.\",\n",
    "           \"'Pop!' goes the weasel.\"]\n",
    "\n",
    "q_a = ((0,1),(1,2),(2,0))\n",
    "\n",
    "for q, a in q_a:\n",
    "    print(f'Q: {questions[q]}')\n",
    "    print(f'A: {answers[a]}')"
   ]
  },
  {
   "cell_type": "code",
   "execution_count": null,
   "metadata": {},
   "outputs": [
    {
     "data": {
      "text/plain": [
       "\"My kitty cat likes roast beef, My kitty cat likes ham, My kitty cat fell on his head Andnow thinks he's a clam\""
      ]
     },
     "execution_count": 6,
     "metadata": {},
     "output_type": "execute_result"
    }
   ],
   "source": [
    "\"\"\"My kitty cat likes %s, My kitty cat likes %s, My kitty cat fell on his %s Andnow thinks he's a %s\"\"\" % (\"roast beef\", \"ham\", \"head\", \"clam\")"
   ]
  },
  {
   "cell_type": "code",
   "execution_count": 7,
   "metadata": {},
   "outputs": [
    {
     "data": {
      "text/plain": [
       "\"My kitty cat likes roast beef, My kitty cat likes ham, My kitty cat fell on his head Andnow thinks he's a clam\""
      ]
     },
     "execution_count": 7,
     "metadata": {},
     "output_type": "execute_result"
    }
   ],
   "source": [
    "poem = \"\"\"My kitty cat likes %s, My kitty cat likes %s, My kitty cat fell on his %s Andnow thinks he's a %s\"\"\" \n",
    "arg = (\"roast beef\", \"ham\", \"head\", \"clam\")\n",
    "poem % arg"
   ]
  },
  {
   "cell_type": "code",
   "execution_count": 13,
   "metadata": {},
   "outputs": [
    {
     "name": "stdout",
     "output_type": "stream",
     "text": [
      "('Dear Ambassador Nibbler,\\n'\n",
      " '\\n'\n",
      " 'Thank you for your letter. We are sorry that our pudding\\n'\n",
      " 'evaporated in your gazebo. Please note that it should never\\n'\n",
      " 'be used in a gazebo, especially near any octothorpes.\\n'\n",
      " '\\n'\n",
      " 'Send us your receipt and $1.99 for shipping and hadling.\\n'\n",
      " 'We will send you another pudding that , in our tests,\\n'\n",
      " 'is 88% less likely to have evaporated.\\n'\n",
      " '\\n'\n",
      " 'Thank you for your support.\\n'\n",
      " '\\n'\n",
      " 'Sincerely,\\n'\n",
      " 'Shirley Iugeste\\n'\n",
      " 'I Hate This Job')\n"
     ]
    }
   ],
   "source": [
    "import pprint\n",
    "letter = \"\"\"Dear {salutation} {name},\n",
    "\n",
    "Thank you for your letter. We are sorry that our {product}\n",
    "{verbed} in your {room}. Please note that it should never\n",
    "be used in a {room}, especially near any {animals}.\n",
    "\n",
    "Send us your receipt and {amount} for shipping and hadling.\n",
    "We will send you another {product} that , in our tests,\n",
    "is {percent}% less likely to have {verbed}.\n",
    "\n",
    "Thank you for your support.\n",
    "\n",
    "Sincerely,\n",
    "{spokesman}\n",
    "{job_title}\"\"\"\n",
    "\n",
    "pprint.pprint(letter.format(salutation='Ambassador',\n",
    "              name=\"Nibbler\",\n",
    "              product=\"pudding\",\n",
    "              verbed=\"evaporated\",\n",
    "              room=\"gazebo\",\n",
    "              animals=\"octothorpes\",\n",
    "              amount='$1.99',\n",
    "              percent=88,\n",
    "              spokesman=\"Shirley Iugeste\",\n",
    "              job_title=\"I Hate This Job\"))"
   ]
  },
  {
   "cell_type": "code",
   "execution_count": 1,
   "metadata": {},
   "outputs": [
    {
     "name": "stdout",
     "output_type": "stream",
     "text": [
      "Ducky McDuckface\n",
      "Gourdy McGourdface\n",
      "Spitzy McSpitzface\n"
     ]
    }
   ],
   "source": [
    "names = (\"duck\", \"gourd\", \"spitz\")\n",
    "\n",
    "for name in names:\n",
    "    cap_name = name.capitalize()\n",
    "    print(\"%sy Mc%sface\" % (cap_name,cap_name))"
   ]
  },
  {
   "cell_type": "code",
   "execution_count": 17,
   "metadata": {},
   "outputs": [
    {
     "name": "stdout",
     "output_type": "stream",
     "text": [
      "Ducky McDuckface\n",
      "Gourdy McGourdface\n",
      "Spitzy McSpitzface\n"
     ]
    }
   ],
   "source": [
    "names = (\"duck\", \"gourd\", \"spitz\")\n",
    "\n",
    "for name in names:\n",
    "    cap_name = name.capitalize()\n",
    "    print(\"{}y Mc{}face\".format(cap_name,cap_name))"
   ]
  },
  {
   "cell_type": "code",
   "execution_count": 19,
   "metadata": {},
   "outputs": [
    {
     "name": "stdout",
     "output_type": "stream",
     "text": [
      "Ducky McDuckface\n",
      "Gourdy McGourdface\n",
      "Spitzy McSpitzface\n"
     ]
    }
   ],
   "source": [
    "names = (\"duck\", \"gourd\", \"spitz\")\n",
    "\n",
    "for name in names:\n",
    "    cap_name = name.capitalize()\n",
    "    print(f'{cap_name}y Mc{cap_name}face')"
   ]
  },
  {
   "cell_type": "code",
   "execution_count": 2,
   "metadata": {},
   "outputs": [
    {
     "name": "stdout",
     "output_type": "stream",
     "text": [
      "Monday : drink coffee -eat banana - enjoy tiramisu\n",
      "Tuesday : drink tea -eat orange - enjoy ice cream\n",
      "Wednesday : drink beer -eat peach - enjoy pie\n"
     ]
    }
   ],
   "source": [
    "days = ['Monday', 'Tuesday', 'Wednesday']\n",
    "fruits = ['banana', 'orange', 'peach']\n",
    "drinks = ['coffee', 'tea', 'beer']\n",
    "desserts = ['tiramisu', 'ice cream', 'pie', 'pudding']\n",
    "for day, fruit, drink, dessert in zip(days, fruits, drinks, desserts):\n",
    "    print(day, \": drink\", drink, \"-eat\", fruit, \"- enjoy\", dessert)"
   ]
  },
  {
   "cell_type": "code",
   "execution_count": 5,
   "metadata": {},
   "outputs": [
    {
     "name": "stdout",
     "output_type": "stream",
     "text": [
      "[(1, 1), (1, 2), (2, 1), (2, 2), (3, 1), (3, 2)]\n",
      "(1, 1)\n",
      "(1, 2)\n",
      "(2, 1)\n",
      "(2, 2)\n",
      "(3, 1)\n",
      "(3, 2)\n"
     ]
    }
   ],
   "source": [
    "rows = range(1, 4)\n",
    "\n",
    "cols = range(1, 3)\n",
    "\n",
    "cells = [(row, col) for row in rows for col in cols]\n",
    "\n",
    "print(cells)\n",
    "\n",
    "for cell in cells:\n",
    "    print(cell)"
   ]
  },
  {
   "cell_type": "code",
   "execution_count": 8,
   "metadata": {},
   "outputs": [
    {
     "name": "stdout",
     "output_type": "stream",
     "text": [
      "1991\n",
      "1993\n",
      "1995\n"
     ]
    }
   ],
   "source": [
    "year_list = [1991, 1992, 1993, 1994, 1995]\n",
    "print(year_list[0])\n",
    "print(year_list[2])\n",
    "print(year_list[4])\n"
   ]
  },
  {
   "cell_type": "code",
   "execution_count": 13,
   "metadata": {},
   "outputs": [
    {
     "name": "stdout",
     "output_type": "stream",
     "text": [
      "Cinderella\n",
      "['mozzarella', 'cinderella', 'salmonella']\n"
     ]
    }
   ],
   "source": [
    "things = [\"mozzarella\", \"cinderella\", \"salmonella\"]\n",
    "print(things[1].capitalize())\n",
    "print(things)"
   ]
  },
  {
   "cell_type": "code",
   "execution_count": 15,
   "metadata": {},
   "outputs": [
    {
     "name": "stdout",
     "output_type": "stream",
     "text": [
      "['MOZZARELLA', 'cinderella', 'salmonella']\n"
     ]
    }
   ],
   "source": [
    "things = [\"mozzarella\", \"cinderella\", \"salmonella\"]\n",
    "things[0] = things[0].upper()\n",
    "print(things)"
   ]
  },
  {
   "cell_type": "code",
   "execution_count": 16,
   "metadata": {},
   "outputs": [
    {
     "name": "stdout",
     "output_type": "stream",
     "text": [
      "['MOZZARELLA', 'cinderella']\n"
     ]
    }
   ],
   "source": [
    "del things[2]\n",
    "print(things)"
   ]
  },
  {
   "cell_type": "code",
   "execution_count": 18,
   "metadata": {},
   "outputs": [
    {
     "data": {
      "text/plain": [
       "'Oprah'"
      ]
     },
     "execution_count": 18,
     "metadata": {},
     "output_type": "execute_result"
    }
   ],
   "source": [
    "surprise = [\"Groucho\", \"Chico\", \"Harpo\"]\n",
    "surprise[2] = surprise[2].lower()\n",
    "surprise[2] = surprise[2][::-1]\n",
    "surprise[2] = surprise[2].capitalize()\n",
    "surprise[2]\n"
   ]
  },
  {
   "cell_type": "code",
   "execution_count": 19,
   "metadata": {},
   "outputs": [
    {
     "data": {
      "text/plain": [
       "[0, 2, 4, 6, 8]"
      ]
     },
     "execution_count": 19,
     "metadata": {},
     "output_type": "execute_result"
    }
   ],
   "source": [
    "even = [i for i in range(10) if i % 2 == 0]\n",
    "even"
   ]
  },
  {
   "cell_type": "code",
   "execution_count": 22,
   "metadata": {},
   "outputs": [
    {
     "name": "stdout",
     "output_type": "stream",
     "text": [
      "Fee! Fie! Foe! Flop!\n",
      "Someone better get a mop.\n",
      "Fee! Fie! Foe! Fope!\n",
      "Someone better turn the rope.\n",
      "Fee! Fie! Foe! Fa!\n",
      "Someone better get your ma.\n"
     ]
    }
   ],
   "source": [
    "start1 = [\"fee\", \"fie\", \"foe\"]\n",
    "rhymes = [(\"flop\", \"get a mop\"), (\"fope\", \"turn the rope\"), (\"fa\", \"get your ma\")]\n",
    "start2 = \"Someone better\"\n",
    "\n",
    "start1_cap = \" \".join([word.capitalize() + \"!\" for word in start1])\n",
    "\n",
    "for i, j in rhymes:\n",
    "    print(f'{start1_cap} {i.capitalize()}!')\n",
    "    print(f'{start2} {j}.')"
   ]
  },
  {
   "cell_type": "code",
   "execution_count": 36,
   "metadata": {},
   "outputs": [],
   "source": [
    "english = 'Monday', 'Tuesday', 'Wednesday'\n",
    "\n",
    "french = 'Lundi', 'Mardi', 'Mercredi'\n",
    "\n",
    "y = list(zip(english, french))"
   ]
  },
  {
   "cell_type": "code",
   "execution_count": 34,
   "metadata": {},
   "outputs": [
    {
     "data": {
      "text/plain": [
       "'Mardi'"
      ]
     },
     "execution_count": 34,
     "metadata": {},
     "output_type": "execute_result"
    }
   ],
   "source": [
    "french_dict = dict(zip(english, french))\n",
    "\n",
    "french_dict.get('Tuesday')"
   ]
  },
  {
   "cell_type": "code",
   "execution_count": 35,
   "metadata": {},
   "outputs": [
    {
     "data": {
      "text/plain": [
       "{'l': 1, 'e': 2, 't': 2, 'r': 1, 's': 1}"
      ]
     },
     "execution_count": 35,
     "metadata": {},
     "output_type": "execute_result"
    }
   ],
   "source": [
    "word = 'letters'\n",
    "letter_counts = {letter: word.count(letter) for letter in word}\n",
    "letter_counts"
   ]
  },
  {
   "cell_type": "code",
   "execution_count": 6,
   "metadata": {},
   "outputs": [
    {
     "data": {
      "text/plain": [
       "{'dog': 'chien', 'cat': 'chat', 'walrus': 'morse'}"
      ]
     },
     "execution_count": 6,
     "metadata": {},
     "output_type": "execute_result"
    }
   ],
   "source": [
    "e2f = {'dog':'chien','cat':'chat','walrus':'morse'}\n",
    "e2f"
   ]
  },
  {
   "cell_type": "code",
   "execution_count": 2,
   "metadata": {},
   "outputs": [
    {
     "data": {
      "text/plain": [
       "'morse'"
      ]
     },
     "execution_count": 2,
     "metadata": {},
     "output_type": "execute_result"
    }
   ],
   "source": [
    "e2f['walrus']"
   ]
  },
  {
   "cell_type": "code",
   "execution_count": 10,
   "metadata": {},
   "outputs": [
    {
     "data": {
      "text/plain": [
       "{'chien': 'dog', 'chat': 'cat', 'morse': 'walrus'}"
      ]
     },
     "execution_count": 10,
     "metadata": {},
     "output_type": "execute_result"
    }
   ],
   "source": [
    "list1 = list(e2f.items())\n",
    "f2e = {}\n",
    "for english, french in e2f.items():\n",
    "    f2e[french] = english\n",
    "f2e"
   ]
  },
  {
   "cell_type": "code",
   "execution_count": null,
   "metadata": {},
   "outputs": [
    {
     "data": {
      "text/plain": [
       "'dog'"
      ]
     },
     "execution_count": 11,
     "metadata": {},
     "output_type": "execute_result"
    }
   ],
   "source": [
    "f2e['chien']"
   ]
  },
  {
   "cell_type": "code",
   "execution_count": 14,
   "metadata": {},
   "outputs": [
    {
     "data": {
      "text/plain": [
       "{'cat', 'dog', 'walrus'}"
      ]
     },
     "execution_count": 14,
     "metadata": {},
     "output_type": "execute_result"
    }
   ],
   "source": [
    "e2f_set = set(e2f.keys())\n",
    "e2f_set"
   ]
  },
  {
   "cell_type": "code",
   "execution_count": 16,
   "metadata": {},
   "outputs": [
    {
     "data": {
      "text/plain": [
       "dict_keys(['animals', 'plants', 'others'])"
      ]
     },
     "execution_count": 16,
     "metadata": {},
     "output_type": "execute_result"
    }
   ],
   "source": [
    "life = {'animals': {'cat':['Henri','Grumpy','Lucy'],'octopi':{},'emus':{}},'plants':{},'others':{}}\n",
    "life.keys()"
   ]
  },
  {
   "cell_type": "code",
   "execution_count": 17,
   "metadata": {},
   "outputs": [
    {
     "data": {
      "text/plain": [
       "dict_keys(['cat', 'octopi', 'emus'])"
      ]
     },
     "execution_count": 17,
     "metadata": {},
     "output_type": "execute_result"
    }
   ],
   "source": [
    "life['animals'].keys()"
   ]
  },
  {
   "cell_type": "code",
   "execution_count": 21,
   "metadata": {},
   "outputs": [
    {
     "data": {
      "text/plain": [
       "['Henri', 'Grumpy', 'Lucy']"
      ]
     },
     "execution_count": 21,
     "metadata": {},
     "output_type": "execute_result"
    }
   ],
   "source": [
    "life['animals']['cat']"
   ]
  },
  {
   "cell_type": "code",
   "execution_count": 23,
   "metadata": {},
   "outputs": [
    {
     "data": {
      "text/plain": [
       "{0: 0, 1: 1, 2: 4, 3: 9, 4: 16, 5: 25, 6: 36, 7: 49, 8: 64, 9: 81}"
      ]
     },
     "execution_count": 23,
     "metadata": {},
     "output_type": "execute_result"
    }
   ],
   "source": [
    "squares = {key:key**2 for key in range(10)}\n",
    "squares"
   ]
  },
  {
   "cell_type": "code",
   "execution_count": 24,
   "metadata": {},
   "outputs": [
    {
     "data": {
      "text/plain": [
       "{1, 3, 5, 7, 9}"
      ]
     },
     "execution_count": 24,
     "metadata": {},
     "output_type": "execute_result"
    }
   ],
   "source": [
    "odd_set = {odd for odd in range(10) if odd % 2 != 0}\n",
    "odd_set"
   ]
  },
  {
   "cell_type": "code",
   "execution_count": 26,
   "metadata": {},
   "outputs": [
    {
     "name": "stdout",
     "output_type": "stream",
     "text": [
      "Got 0\n",
      "Got 1\n",
      "Got 2\n",
      "Got 3\n",
      "Got 4\n",
      "Got 5\n",
      "Got 6\n",
      "Got 7\n",
      "Got 8\n",
      "Got 9\n"
     ]
    }
   ],
   "source": [
    "for thing in ('Got %s' % i for i in range(10)):\n",
    "    print(thing)"
   ]
  },
  {
   "cell_type": "code",
   "execution_count": 27,
   "metadata": {},
   "outputs": [
    {
     "data": {
      "text/plain": [
       "{'optimist': 'The glass is half full',\n",
       " 'pessimist': 'The glass is half empty',\n",
       " 'troll': 'How did you get a glass?'}"
      ]
     },
     "execution_count": 27,
     "metadata": {},
     "output_type": "execute_result"
    }
   ],
   "source": [
    "key2 = ('optimist','pessimist','troll')\n",
    "value2 = ('The glass is half full','The glass is half empty', 'How did you get a glass?')\n",
    "\n",
    "dict2 = dict(zip(key2,value2))\n",
    "dict2"
   ]
  }
 ],
 "metadata": {
  "kernelspec": {
   "display_name": "Python 3",
   "language": "python",
   "name": "python3"
  },
  "language_info": {
   "codemirror_mode": {
    "name": "ipython",
    "version": 3
   },
   "file_extension": ".py",
   "mimetype": "text/x-python",
   "name": "python",
   "nbconvert_exporter": "python",
   "pygments_lexer": "ipython3",
   "version": "3.13.0"
  }
 },
 "nbformat": 4,
 "nbformat_minor": 2
}
