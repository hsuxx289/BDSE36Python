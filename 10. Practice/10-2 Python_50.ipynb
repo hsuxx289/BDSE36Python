{
 "cells": [
  {
   "cell_type": "markdown",
   "metadata": {},
   "source": [
    "## 數值處理"
   ]
  },
  {
   "cell_type": "markdown",
   "metadata": {},
   "source": [
    "### 01 猜數字"
   ]
  },
  {
   "cell_type": "code",
   "execution_count": null,
   "metadata": {},
   "outputs": [],
   "source": [
    "import random\n",
    "\n",
    "def guessing_game():\n",
    "    answer = random.randint(0, 99)\n",
    "\n",
    "    while True:\n",
    "        num_str = input('請猜數字 (0-99)')\n",
    "\n",
    "        if num_str.isdigit():\n",
    "            num = int(num_str)\n",
    "\n",
    "            if num == answer:\n",
    "                print(f'答對了！答案是{answer}')\n",
    "                break\n",
    "            elif num > answer:\n",
    "                print('猜得太高，再試一次')\n",
    "            else:\n",
    "                print('猜得太低，再試一次')\n",
    "        \n",
    "        else:\n",
    "            print('請輸入(0-99)之整數')\n",
    "    \n",
    "\n",
    "guessing_game()"
   ]
  },
  {
   "cell_type": "markdown",
   "metadata": {},
   "source": [
    "### 02 加總"
   ]
  },
  {
   "cell_type": "code",
   "execution_count": null,
   "metadata": {},
   "outputs": [],
   "source": [
    "def my_sum(*args, start=0):\n",
    "    \n",
    "    sum = 0\n",
    "    \n",
    "    for num in args:\n",
    "        sum += num\n",
    "    \n",
    "    return start + sum\n",
    "\n",
    "print(my_sum(10, 11, 12, 13, 14, 15))\n",
    "print(my_sum(10, 11, 12, 13, 14, 15, start=10))"
   ]
  },
  {
   "cell_type": "markdown",
   "metadata": {},
   "source": [
    "### 03 平均"
   ]
  },
  {
   "cell_type": "code",
   "execution_count": null,
   "metadata": {},
   "outputs": [],
   "source": [
    "def run_timing():\n",
    "    count = 0\n",
    "    time_sum = 0.0\n",
    "    \n",
    "    while time := input(\"輸入跑 10 公里時間: (直接按 Enter 結束)\"):\n",
    "\n",
    "        try:\n",
    "            time = float(time)\n",
    "            time_sum += time\n",
    "            count += 1\n",
    "        except Exception as e:\n",
    "            print(e)\n",
    "\n",
    "    if count > 0:\n",
    "        avg_time = time_sum / count\n",
    "    else:\n",
    "        avg_time = 0.0\n",
    "\n",
    "    print(f'跑 {count} 次的平均時間為 {avg_time:.2f} 分鐘')\n",
    "\n",
    "run_timing()"
   ]
  },
  {
   "cell_type": "markdown",
   "metadata": {},
   "source": [
    "### 04 將16進位轉為10進位"
   ]
  },
  {
   "cell_type": "code",
   "execution_count": null,
   "metadata": {},
   "outputs": [],
   "source": [
    "def hex_to_dec():\n",
    "    hex = input('輸入 16 進位數字')\n",
    "    dec = 0\n",
    "\n",
    "    for power, digit in enumerate(reversed(hex)):\n",
    "        if digit.isdigit():\n",
    "            digit = int(digit)\n",
    "        else:\n",
    "            digit = ord(digit.upper()) - ord('A') + 10\n",
    "\n",
    "        dec += digit * (16 ** power)\n",
    "\n",
    "    print(f'十進位結果: {dec}')\n",
    "\n",
    "hex_to_dec()\n",
    "\n",
    "'''\n",
    "hex = '0x2A'\n",
    "\n",
    "dec = int(hex, 16)\n",
    "\n",
    "dec\n",
    "'''"
   ]
  },
  {
   "cell_type": "markdown",
   "metadata": {},
   "source": [
    "## 字串處理"
   ]
  },
  {
   "cell_type": "markdown",
   "metadata": {},
   "source": [
    "### 05 豬拉丁文"
   ]
  },
  {
   "cell_type": "code",
   "execution_count": null,
   "metadata": {},
   "outputs": [],
   "source": [
    "def pig_latin(word):\n",
    "    if word[0] in 'aeiou':\n",
    "        return f'{word}way'\n",
    "    else:\n",
    "        return f'{word[1:]}{word[0]}ay'\n",
    "\n",
    "print(pig_latin('python'))"
   ]
  },
  {
   "cell_type": "markdown",
   "metadata": {},
   "source": [
    "### 06 豬拉丁文 - 句子翻譯機"
   ]
  },
  {
   "cell_type": "code",
   "execution_count": null,
   "metadata": {},
   "outputs": [],
   "source": [
    "def pl_sentence(sentence):\n",
    "    output = []\n",
    "    \n",
    "    for word in sentence.lower().split():\n",
    "        if word[0] in 'aeiou':\n",
    "            output.append(f'{word}way')\n",
    "        else:\n",
    "            output.append(f'{word[1:]}{word[0]}ay')\n",
    "\n",
    "    return ' '.join(output)\n",
    "\n",
    "print(pl_sentence('this is a test'))"
   ]
  },
  {
   "cell_type": "markdown",
   "metadata": {},
   "source": [
    "### 07 ROT13 加密法"
   ]
  },
  {
   "cell_type": "code",
   "execution_count": null,
   "metadata": {},
   "outputs": [],
   "source": [
    "def rot13(word):\n",
    "    output = []\n",
    "\n",
    "    for char in word.lower():\n",
    "        char_rot13 = ord(char) + 13\n",
    "\n",
    "        if char_rot13 > ord('z'):\n",
    "            char_rot13 -= 26\n",
    "        \n",
    "        output.append(chr(char_rot13))\n",
    "    \n",
    "    return ''.join(output)\n",
    "\n",
    "print(rot13('apple'))\n",
    "\n",
    "'''\n",
    "# python 內建有支援此加密法\n",
    "import codecs\n",
    "\n",
    "print(codecs.encode('apple', 'rot_13))\n",
    "'''"
   ]
  },
  {
   "cell_type": "markdown",
   "metadata": {},
   "source": [
    "### 08 字元排序"
   ]
  },
  {
   "cell_type": "code",
   "execution_count": null,
   "metadata": {},
   "outputs": [],
   "source": [
    "def strsort(word):\n",
    "    return ''.join(sorted(word, key=str.lower))\n",
    "\n",
    "print(strsort('Python'))"
   ]
  },
  {
   "cell_type": "markdown",
   "metadata": {},
   "source": [
    "## list 與 tuple"
   ]
  },
  {
   "cell_type": "markdown",
   "metadata": {},
   "source": [
    "### 09 擷取與合併多種容器的頭尾元素"
   ]
  },
  {
   "cell_type": "code",
   "execution_count": null,
   "metadata": {},
   "outputs": [],
   "source": [
    "def first_last(seq):\n",
    "    return seq[:1] + seq[-1:]\n",
    "\n",
    "print(first_last(('abcde')))\n",
    "print(first_last([1, 2, 3, 4, 5]))"
   ]
  },
  {
   "cell_type": "markdown",
   "metadata": {},
   "source": [
    "### 10 萬用加總函式"
   ]
  },
  {
   "cell_type": "code",
   "execution_count": null,
   "metadata": {},
   "outputs": [],
   "source": [
    "def mysum(*items):\n",
    "    \n",
    "    if not items:\n",
    "        return items\n",
    "    \n",
    "    output = items[0]\n",
    "\n",
    "    for item in items[1:]:\n",
    "        if isinstance(item, dict):\n",
    "            output.update(item)\n",
    "        else:\n",
    "            output += item\n",
    "    return output\n",
    "\n",
    "print(mysum())\n",
    "print(mysum(10, 20, 30, 40))\n",
    "print(mysum('abc', 'd', 'e'))\n",
    "print(mysum([10, 20, 30], [40, 50], [60]))\n",
    "print(mysum({'A': 1, 'B': 2}, {'C': 3}))"
   ]
  },
  {
   "cell_type": "markdown",
   "metadata": {},
   "source": [
    "### 11 依姓名排序聯絡資料"
   ]
  },
  {
   "cell_type": "code",
   "execution_count": null,
   "metadata": {},
   "outputs": [],
   "source": [
    "def alphabetize_names(people):\n",
    "\n",
    "    for person in sorted(people, key=lambda x:x[1]):\n",
    "        print(f'{person[1]}, {person[0]}: {person[2]}')\n",
    "\n",
    "    # import operator\n",
    "    # for person in sorted(people, key=operator.itemgetter(1)):\n",
    "    #     print(f'{person[1]}, {person[0]}: {person[2]}')\n",
    "\n",
    "people = {\n",
    "    ('Joe', 'Biden', 'president@usa.gov'),\n",
    "    ('Emmanuel', 'Macron', 'president@france.gov'),\n",
    "    ('Justin', 'Trudeau', 'primeminister@cananda.gov'),\n",
    "    ('Angela', 'Merkel', 'primeminister@germany.gov'),\n",
    "    ('Jacinda', 'Ardern', 'primeminister@newzealand.gov')\n",
    "}\n",
    "\n",
    "alphabetize_names(people)"
   ]
  },
  {
   "cell_type": "markdown",
   "metadata": {},
   "source": [
    "### 12 用排版格式輸出資料"
   ]
  },
  {
   "cell_type": "code",
   "execution_count": null,
   "metadata": {},
   "outputs": [],
   "source": [
    "def sorted_grades(grades):\n",
    "    grades.sort(key=lambda x:x[2], reverse=True)\n",
    "    output = []\n",
    "    for first, last, grade in grades:\n",
    "        output.append(f'{last:12s}{first:10s}{grade}')\n",
    "\n",
    "    return '\\n'.join(output)\n",
    "\n",
    "# import operator\n",
    "# def sorted_grades(grades):\n",
    "#     grades.sort(key=operator.itemgetter(2), reverse=True)\n",
    "#     output = []\n",
    "#     for grade in grades:\n",
    "#         output.append('{1:12s}{0:10s}{2}'.format(*grade))\n",
    "\n",
    "#     return '\\n'.join(output)\n",
    "\n",
    "grades = [\n",
    "    ('Alice', 'Wooding', 89),\n",
    "    ('Bob', 'Johnson', 86),\n",
    "    ('Cindy', 'Letterman', 93),\n",
    "    ('David', 'Moor', 86),\n",
    "    ('Eddie', 'Williams', 91),\n",
    "]\n",
    "\n",
    "print(sorted_grades(grades))"
   ]
  },
  {
   "cell_type": "markdown",
   "metadata": {},
   "source": [
    "### 13 尋找單字中重複最多次的字母"
   ]
  },
  {
   "cell_type": "code",
   "execution_count": null,
   "metadata": {},
   "outputs": [],
   "source": [
    "def most_repeated_letter(word):\n",
    "    chr = list(set(word))\n",
    "    chr_count = []\n",
    "    \n",
    "    for c in chr:\n",
    "        chr_count.append((c, word.count(c)))\n",
    "    \n",
    "    result = sorted(chr_count, key= lambda x:x[1])[-1]\n",
    "    print('{0} 重複了 {1} 次'.format(*result))\n",
    "\n",
    "word = 'independence'\n",
    "\n",
    "# import operator\n",
    "# from collections import Counter\n",
    "\n",
    "# def most_repeated_letter(word):\n",
    "#     result = Counter(word).most_common(1)[0]\n",
    "#     print('{0} 重複了 {1} 次'.format(*result))\n",
    "\n",
    "\n",
    "most_repeated_letter(word)"
   ]
  },
  {
   "cell_type": "markdown",
   "metadata": {},
   "source": [
    "## dict 與 set"
   ]
  },
  {
   "cell_type": "markdown",
   "metadata": {},
   "source": [
    "### 14 餐廳點餐機"
   ]
  },
  {
   "cell_type": "code",
   "execution_count": null,
   "metadata": {},
   "outputs": [],
   "source": [
    "menu = {'三明治': 50,\n",
    "        '咖啡': 40,\n",
    "        '沙拉': 30}\n",
    "\n",
    "def order_meal():\n",
    "    total = 0\n",
    "    \n",
    "    while order := input(\"請點餐:\"):\n",
    "        \n",
    "        if order in menu:\n",
    "            price = menu[order]\n",
    "            total += price\n",
    "            print(f'{order} {price} 元, 總金額 {total} 元')\n",
    "\n",
    "        else:\n",
    "            print(f'抱歉! 我們沒有供應{order}')\n",
    "\n",
    "    print(f'您的帳單為 {total} 元')\n",
    "\n",
    "order_meal()"
   ]
  },
  {
   "cell_type": "markdown",
   "metadata": {},
   "source": [
    "### 15 降雨量資料庫"
   ]
  },
  {
   "cell_type": "code",
   "execution_count": null,
   "metadata": {},
   "outputs": [],
   "source": [
    "def record_rainfall():\n",
    "    rainfall = {}\n",
    "\n",
    "    while True:\n",
    "        city = input('輸入城市: ')\n",
    "        if not city:\n",
    "            break\n",
    "        \n",
    "        rain_mm = input('輸入雨量(mm): ')\n",
    "        if not rain_mm:\n",
    "            rain_mm = 0\n",
    "\n",
    "        rainfall[city] = rainfall.get(city, 0) + int(rain_mm)\n",
    "\n",
    "    for city, rain in rainfall.items():\n",
    "        print(f'{city}: {rain} mm')\n",
    "\n",
    "# from collections import defaultdict\n",
    "\n",
    "# def record_rainfall():\n",
    "#     rainfall = defaultdict(int)\n",
    "\n",
    "#     while True:\n",
    "#         if not (city := input('輸入城市: ')):\n",
    "#             break\n",
    "#         if not (rain_mm := input('輸入雨量(mm): ')):\n",
    "#             rain_mm = 0\n",
    "\n",
    "#         rainfall[city] += int(rain_mm)\n",
    "\n",
    "#     for city, rain in rainfall.items():\n",
    "#         print(f'{city}: {rain} mm')\n",
    "\n",
    "record_rainfall()"
   ]
  },
  {
   "cell_type": "markdown",
   "metadata": {},
   "source": [
    "### 16 有幾個不重複的數字"
   ]
  },
  {
   "cell_type": "code",
   "execution_count": null,
   "metadata": {},
   "outputs": [],
   "source": [
    "def unique_num_len(numbers):\n",
    "    print(f'不重複數字共 {len(set(numbers))} 個')\n",
    "\n",
    "numbers = [1, 2, 3, 1, 2, 3, 4, 1, 2]\n",
    "unique_num_len(numbers)"
   ]
  },
  {
   "cell_type": "markdown",
   "metadata": {},
   "source": [
    "### 17 比較兩個dict 的差異"
   ]
  },
  {
   "cell_type": "code",
   "execution_count": null,
   "metadata": {},
   "outputs": [],
   "source": [
    "def diff_dict(first, second):\n",
    "    output = {}\n",
    "    all_keys = sorted(first.keys() | second.keys())\n",
    "\n",
    "    for key in all_keys:\n",
    "        if first.get(key) != second.get(key):\n",
    "            output[key] = [first.get(key), second.get(key)]\n",
    "    \n",
    "    return output\n",
    "\n",
    "d1 = {'a': 1, 'b': 2, 'c' : 3, 'd' : 5}\n",
    "d2 = {'a': 1, 'b': 2, 'd' : 4, 'e' : 6}\n",
    "print(diff_dict(d1, d2))"
   ]
  },
  {
   "cell_type": "markdown",
   "metadata": {},
   "source": [
    "## 檔案處理"
   ]
  },
  {
   "cell_type": "markdown",
   "metadata": {},
   "source": [
    "### 18 讀出檔案最後一行"
   ]
  },
  {
   "cell_type": "code",
   "execution_count": null,
   "metadata": {},
   "outputs": [],
   "source": [
    "# def read_final_line(file):\n",
    "#     f = open(file, 'r')\n",
    "#     while line := f.readline():\n",
    "#         lastline = line\n",
    "#     f.close()\n",
    "#     return lastline\n",
    "\n",
    "def read_final_line(file):\n",
    "    with open(file, 'r') as f:\n",
    "        for line in f:\n",
    "            pass\n",
    "        return line\n",
    "    \n",
    "print(read_final_line('../../data/login.log'))"
   ]
  },
  {
   "cell_type": "markdown",
   "metadata": {},
   "source": [
    "### 19 擷取登入帳號資訊"
   ]
  },
  {
   "cell_type": "code",
   "execution_count": null,
   "metadata": {},
   "outputs": [],
   "source": [
    "import pprint\n",
    "\n",
    "def passwd_to_dict(file):\n",
    "    \n",
    "    users = {}\n",
    "    \n",
    "    with open(file) as f:\n",
    "        \n",
    "        for line in f:\n",
    "            user_info = line.split(':')\n",
    "            users.update({user_info[0]: user_info[2]})\n",
    "\n",
    "    return users\n",
    "\n",
    "pprint.pprint(passwd_to_dict('../../data/passwd.cfg'), sort_dicts=False)"
   ]
  },
  {
   "cell_type": "markdown",
   "metadata": {},
   "source": [
    "### 20 統計檔案的字元數 字數 行數"
   ]
  },
  {
   "cell_type": "code",
   "execution_count": null,
   "metadata": {},
   "outputs": [],
   "source": [
    "def wordcount(file):\n",
    "    \n",
    "    result = {\n",
    "        'Characters' : 0,\n",
    "        'Word': 0,\n",
    "        'Unique words': 0,\n",
    "        'Lines': 0\n",
    "    }\n",
    "    \n",
    "    unique_words = set()\n",
    "    \n",
    "    with open(file, 'r') as f:\n",
    "        for line in f:\n",
    "            result['Lines'] += 1\n",
    "            result['Characters'] += len(line)\n",
    "            word = line.split()\n",
    "            result['Word'] += len(word)\n",
    "            unique_words.update(word)\n",
    "\n",
    "        result['Unique words'] = len(unique_words)\n",
    "\n",
    "    for key, value in result.items():\n",
    "        print(f'{key}: {value}')\n",
    "\n",
    "wordcount('../../data/text.txt')"
   ]
  },
  {
   "cell_type": "markdown",
   "metadata": {},
   "source": [
    "### 21 找出檔案內的最長單字"
   ]
  },
  {
   "cell_type": "code",
   "execution_count": null,
   "metadata": {},
   "outputs": [],
   "source": [
    "def find_longest_word(file):\n",
    "    \n",
    "    longest_word = ''\n",
    "    \n",
    "    with open(file, 'r') as f:\n",
    "        for line in f:\n",
    "            for word in line.replace('.', '').split():\n",
    "                if len(word) > len(longest_word):\n",
    "                    longest_word = word\n",
    "\n",
    "    return longest_word\n",
    "\n",
    "# def find_longest_word(file):\n",
    "    \n",
    "#     words = set()\n",
    "    \n",
    "#     with open(file, 'r') as f:\n",
    "#         for line in f:\n",
    "#             words.update(line.replace('.', '').split())\n",
    "    \n",
    "#     return sorted(words, key=len)[-1]\n",
    "\n",
    "find_longest_word('../../data/text2.txt')"
   ]
  },
  {
   "cell_type": "markdown",
   "metadata": {},
   "source": [
    "### 22 讀寫 CSV 檔"
   ]
  },
  {
   "cell_type": "code",
   "execution_count": null,
   "metadata": {},
   "outputs": [],
   "source": [
    "import csv\n",
    "\n",
    "def passwd_to_csv(input, output):\n",
    "    with open(input, 'r') as f_read, \\\n",
    "            open(output,'w') as f_write:\n",
    "        csv_reader = csv.reader(f_read, delimiter=':')\n",
    "        csv_writer = csv.writer(f_write,delimiter='\\t', lineterminator='\\n')\n",
    "\n",
    "        for line in csv_reader:\n",
    "            csv_writer.writerow([line[0], [line[2]]])\n",
    "\n",
    "passwd_to_csv('../../data/passwd.cfg', '../../data/passwd.csv')"
   ]
  },
  {
   "cell_type": "markdown",
   "metadata": {},
   "source": [
    "### 23 讀取 JSON 檔"
   ]
  },
  {
   "cell_type": "code",
   "execution_count": null,
   "metadata": {},
   "outputs": [],
   "source": [
    "import json\n",
    "from collections import defaultdict\n",
    "\n",
    "def print_scores(file):\n",
    "    with open(file) as json_file:\n",
    "        record = json.load(json_file)\n",
    "        result = defaultdict(list)\n",
    "\n",
    "        print(f'班級: {record['class']}')\n",
    "\n",
    "        for record in record['score']:\n",
    "            for subject, score in record.items():\n",
    "                result[subject].append(score)\n",
    "\n",
    "        for subject, score in result.items():\n",
    "            print(f'科目: {subject}')\n",
    "            print(f'\\t最高分: {max(score)}')\n",
    "            print(f'\\t最低分: {min(score)}')\n",
    "            print(f'\\t平均: {sum(score)/len(score)}')\n",
    "\n",
    "print_scores('../../data/score.json')"
   ]
  },
  {
   "cell_type": "markdown",
   "metadata": {},
   "source": [
    "### 24 批次檔案讀取"
   ]
  },
  {
   "cell_type": "code",
   "execution_count": null,
   "metadata": {},
   "outputs": [],
   "source": [
    "import os, json\n",
    "from collections import defaultdict\n",
    "\n",
    "def print_dir_scores(dir):\n",
    "    for file in os.listdir(dir):\n",
    "        if file.endswith('.json'):\n",
    "            print('讀取檔案: ', file )\n",
    "            print_scores(os.path.join(dir,file))\n",
    "\n",
    "# import pathlib\n",
    "# def print_dir_scores(dir):\n",
    "#     p = pathlib.Path(dir)\n",
    "#     for file in p.iterdir():\n",
    "#         if file.suffix == '.json':\n",
    "#             print('讀取檔案: ', file)\n",
    "#             print_scores(file)\n",
    "\n",
    "# import glob\n",
    "# def print_dir_scores(dir):\n",
    "#     for file in glob.glob(dir + r'/*.json'):\n",
    "#         print('讀取檔案: ', file)\n",
    "#         print_scores(file)\n",
    "\n",
    "print_dir_scores('../../data/scores')"
   ]
  },
  {
   "cell_type": "markdown",
   "metadata": {},
   "source": [
    "## 函式"
   ]
  },
  {
   "cell_type": "markdown",
   "metadata": {},
   "source": [
    "### 選擇性參數的預設值"
   ]
  },
  {
   "cell_type": "code",
   "execution_count": null,
   "metadata": {},
   "outputs": [],
   "source": [
    "def hello(name, greeting='Hello'):\n",
    "    return f'{greeting}, {name}!'\n",
    "\n",
    "print(hello('Python', greeting='Hi there'))"
   ]
  },
  {
   "cell_type": "markdown",
   "metadata": {},
   "source": [
    "### 25 XML 產生器"
   ]
  },
  {
   "cell_type": "code",
   "execution_count": null,
   "metadata": {},
   "outputs": [],
   "source": [
    "def myxml(tag, content='', **kwargs):\n",
    "    attrs_list = []\n",
    "    for key, value in kwargs.items():\n",
    "        attrs_list.append(f' {key}=\"{value}\"')\n",
    "    attrs = ''.join(attrs_list)\n",
    "    return f'<{tag}{attrs}>{content}</{tag}>'\n",
    "\n",
    "print(myxml('foo', 'bar', a=1, b=2, c=3))"
   ]
  },
  {
   "cell_type": "markdown",
   "metadata": {},
   "source": [
    "### 26 簡易前序式計算機"
   ]
  },
  {
   "cell_type": "code",
   "execution_count": null,
   "metadata": {},
   "outputs": [],
   "source": [
    "def prefix_cal(exp):\n",
    "    operation = {\n",
    "        '+': lambda a, b: a + b,\n",
    "        '-': lambda a, b: a - b,\n",
    "        '*': lambda a, b: a * b,\n",
    "        '/': lambda a, b: a / b\n",
    "    }\n",
    "\n",
    "    op, num1, num2, = exp.split()\n",
    "    \n",
    "    return operation[op](float(num1), float(num2))\n",
    "\n",
    "print(prefix_cal('+ 2 3'))"
   ]
  },
  {
   "cell_type": "code",
   "execution_count": null,
   "metadata": {},
   "outputs": [],
   "source": [
    "# 完整版前序式計算機\n",
    "import operator\n",
    "\n",
    "def prefix_cal(exp):\n",
    "    operation = {\n",
    "        '+': operator.add,\n",
    "        '-': operator.sub,\n",
    "        '*': operator.mul,\n",
    "        '/': operator.truediv\n",
    "    }\n",
    "\n",
    "    # 判斷時先把小數點去掉 因為isnumeric() 會判斷成字串\n",
    "    def isnumber(num):\n",
    "        return num.replace('.','').isnumeric()\n",
    "    \n",
    "    items = exp.split()\n",
    "    \n",
    "    # 算到剩下最後一個就是答案\n",
    "    while len(items) > 1:\n",
    "        for i in range(len(items) - 2):\n",
    "            # 每次取三個元素 只要剛好是前序式 就跳出for 迴圈\n",
    "            op, num1, num2, = items[i:i + 3]\n",
    "            if op in operation and isnumber(num1) and isnumber(num2):\n",
    "                break\n",
    "        # 把算完的結果放回去\n",
    "        items = items[:i] + [str(operation[op](float(num1), float(num2)))] + items[i+3:]\n",
    "\n",
    "    return float(items[0])\n",
    "\n",
    "prefix_cal('/ * + 2 4 3 + 1 5')"
   ]
  },
  {
   "cell_type": "markdown",
   "metadata": {},
   "source": [
    "### 27 自訂密碼產生器"
   ]
  },
  {
   "cell_type": "code",
   "execution_count": null,
   "metadata": {},
   "outputs": [],
   "source": [
    "import random\n",
    "\n",
    "def set_password_source(source):\n",
    "    def password_gen(length):\n",
    "        output = []\n",
    "        for i in range(length):\n",
    "            output.append(random.choice(source))\n",
    "        return ''.join(output)\n",
    "    return password_gen\n",
    "\n",
    "my_password_gen = set_password_source('0123456789abcdefghij')\n",
    "print(my_password_gen(10))"
   ]
  },
  {
   "cell_type": "markdown",
   "metadata": {},
   "source": [
    "## 函數式程式設計"
   ]
  },
  {
   "cell_type": "markdown",
   "metadata": {},
   "source": [
    "### 28 輸出一組數字的絕對值"
   ]
  },
  {
   "cell_type": "code",
   "execution_count": null,
   "metadata": {},
   "outputs": [],
   "source": [
    "def abs_numbers(numbers):\n",
    "    return [abs(x) for x in numbers]\n",
    "\n",
    "# map()\n",
    "# def abs_numbers(numbers):\n",
    "#     return list(map(abs, numbers))\n",
    "\n",
    "print(abs_numbers([1, -2, 3, -4, 5]))"
   ]
  },
  {
   "cell_type": "markdown",
   "metadata": {},
   "source": [
    "### 29 只加總資料中的數字"
   ]
  },
  {
   "cell_type": "code",
   "execution_count": null,
   "metadata": {},
   "outputs": [],
   "source": [
    "def sum_numbers(data):\n",
    "    return sum(int(d) for d in data.split() if d.isdigit())\n",
    "\n",
    "# 使用filter()\n",
    "# def sum_numbers(data):\n",
    "#     return sum(list(map(int,\n",
    "#                         filter(lambda d: d.isdigit(),\n",
    "#                                data.split()))))\n",
    "\n",
    "print(sum_numbers('10 abc 20 de44 30 55fg 40'))"
   ]
  },
  {
   "cell_type": "markdown",
   "metadata": {},
   "source": [
    "### 30 用巢狀生成式壓平二維list"
   ]
  },
  {
   "cell_type": "code",
   "execution_count": null,
   "metadata": {},
   "outputs": [],
   "source": [
    "# def flatten(data):\n",
    "#     my_list = []\n",
    "#     for x in data:\n",
    "#         for y in x:\n",
    "#             my_list.append(y)\n",
    "#     return my_list\n",
    "\n",
    "def flatten(data):\n",
    "    return [y for x in data for y in x]\n",
    "\n",
    "\n",
    "print(flatten([[1, 2], [3, 4]]))"
   ]
  },
  {
   "cell_type": "markdown",
   "metadata": {},
   "source": [
    "### 31 豬拉丁文-檔案翻譯機"
   ]
  },
  {
   "cell_type": "code",
   "execution_count": null,
   "metadata": {},
   "outputs": [],
   "source": [
    "def pl_word(word):\n",
    "    if word[0] in 'aeiou':\n",
    "        return f'{word}way'\n",
    "    else:\n",
    "        return f'{word[1:]}{word[0]}ay'\n",
    "\n",
    "def pl_file(file):\n",
    "    with open(file, 'r') as f:\n",
    "        return ' '.join([pl_word(word.lower().replace('.', ''))\n",
    "                         for line in f\n",
    "                            for word in line.split()])\n",
    "\n",
    "print(pl_file('../../data/text2.txt'))\n",
    "\n"
   ]
  },
  {
   "cell_type": "code",
   "execution_count": null,
   "metadata": {},
   "outputs": [],
   "source": [
    "def flipped_dict(input_dict):\n",
    "    return {value: key for key, value in input_dict.items()}\n",
    "\n",
    "# def flipped_dict(input_dict):\n",
    "#     return {input_dict[key]: key for key in input_dict}\n",
    "\n",
    "print(flipped_dict({'a': 1, 'b': 2, 'c':3}))"
   ]
  },
  {
   "cell_type": "markdown",
   "metadata": {},
   "source": [
    "### 33 擷取登入帳號資訊 (生成式版)"
   ]
  },
  {
   "cell_type": "code",
   "execution_count": null,
   "metadata": {},
   "outputs": [],
   "source": [
    "def passwd_to_dict_2(file):\n",
    "    with open(file, 'r') as f:\n",
    "        dic = {words[0]: words[1] for words in [line.split(':') for line in f]}\n",
    "    return dic\n",
    "\n",
    "print(passwd_to_dict_2('../../data/passwd.cfg'))"
   ]
  },
  {
   "cell_type": "markdown",
   "metadata": {},
   "source": [
    "### 34 過濾檔案中特定條件的單字"
   ]
  },
  {
   "cell_type": "code",
   "execution_count": null,
   "metadata": {},
   "outputs": [],
   "source": [
    "def word_filter(file):\n",
    "    vowels = {'a', 'e', 'i', 'o', 'u'}\n",
    "    with open(file, 'r') as f:\n",
    "        words = [word.replace('.','')\n",
    "                 for line in f \n",
    "                    for word in line.split()\n",
    "                        if len(set(word.lower()) & vowels) >= 3]\n",
    "    return words\n",
    "print(word_filter('../../data/text2.txt'))"
   ]
  },
  {
   "cell_type": "markdown",
   "metadata": {},
   "source": [
    "### 35 希伯來數字密碼"
   ]
  },
  {
   "cell_type": "code",
   "execution_count": null,
   "metadata": {},
   "outputs": [],
   "source": [
    "# part I\n",
    "import string\n",
    "\n",
    "def gematria_dict():\n",
    "    return { char: index\n",
    "            for index, char\n",
    "            in enumerate(string.ascii_lowercase, 1)}\n",
    "\n",
    "GEMATRIA = gematria_dict()\n",
    "GEMATRIA"
   ]
  },
  {
   "cell_type": "code",
   "execution_count": null,
   "metadata": {},
   "outputs": [],
   "source": [
    "# part II\n",
    "# 計算希伯來數值\n",
    "def gematria_value(word):\n",
    "    \n",
    "    return sum(GEMATRIA[char]\n",
    "                for char in word.lower()\n",
    "                if char in GEMATRIA)\n",
    "\n",
    "# 比較每個字的希伯來數值\n",
    "import re\n",
    "\n",
    "def gematria_equal_words(input_word, file):\n",
    "    \n",
    "    input_value = gematria_value(input_word)\n",
    "\n",
    "    with open(file, 'r', encoding='utf-8') as f:\n",
    "        return[re.sub(r'\\W','', word)\n",
    "               for line in f\n",
    "               for word in line.lower().split()\n",
    "               if input_value == gematria_value(word)]\n",
    "    \n",
    "print(gematria_equal_words('programming', '../../data/book.txt'))"
   ]
  },
  {
   "cell_type": "code",
   "execution_count": null,
   "metadata": {},
   "outputs": [],
   "source": [
    "# 檢查希伯來值是否正確\n",
    "print(gematria_value('programming'))\n",
    "print(gematria_value('professor'))\n",
    "print(gematria_value('explanation'))"
   ]
  },
  {
   "cell_type": "markdown",
   "metadata": {},
   "source": [
    "## 模組與套件"
   ]
  },
  {
   "cell_type": "markdown",
   "metadata": {},
   "source": [
    "### 36 所得稅計算模組"
   ]
  },
  {
   "cell_type": "code",
   "execution_count": 2,
   "metadata": {},
   "outputs": [
    {
     "name": "stdout",
     "output_type": "stream",
     "text": [
      "23100.0\n"
     ]
    },
    {
     "ename": "IncomeIsNotNumberError",
     "evalue": "Parameter \"amount\" has to be a number",
     "output_type": "error",
     "traceback": [
      "\u001b[1;31m---------------------------------------------------------------------------\u001b[0m",
      "\u001b[1;31mIncomeIsNotNumberError\u001b[0m                    Traceback (most recent call last)",
      "Cell \u001b[1;32mIn[2], line 3\u001b[0m\n\u001b[0;32m      1\u001b[0m \u001b[38;5;28;01mfrom\u001b[39;00m \u001b[38;5;21;01mtax\u001b[39;00m\u001b[38;5;21;01m.\u001b[39;00m\u001b[38;5;21;01mincome_tax\u001b[39;00m \u001b[38;5;28;01mimport\u001b[39;00m calculate_tax\n\u001b[0;32m      2\u001b[0m \u001b[38;5;28mprint\u001b[39m(calculate_tax(\u001b[38;5;241m77000\u001b[39m))\n\u001b[1;32m----> 3\u001b[0m \u001b[38;5;28mprint\u001b[39m(\u001b[43mcalculate_tax\u001b[49m\u001b[43m(\u001b[49m\u001b[38;5;124;43m'\u001b[39;49m\u001b[38;5;124;43mabd\u001b[39;49m\u001b[38;5;124;43m'\u001b[39;49m\u001b[43m)\u001b[49m)\n",
      "File \u001b[1;32mc:\\Users\\coffi\\BDSE36Python\\10. Practice\\tax\\income_tax.py:25\u001b[0m, in \u001b[0;36mcalculate_tax\u001b[1;34m(amount)\u001b[0m\n\u001b[0;32m     23\u001b[0m \u001b[38;5;28;01mdef\u001b[39;00m \u001b[38;5;21mcalculate_tax\u001b[39m(amount):\n\u001b[0;32m     24\u001b[0m     \u001b[38;5;28;01mif\u001b[39;00m \u001b[38;5;129;01mnot\u001b[39;00m (\u001b[38;5;28misinstance\u001b[39m(amount, \u001b[38;5;28mint\u001b[39m) \u001b[38;5;129;01mor\u001b[39;00m \u001b[38;5;28misinstance\u001b[39m(amount, \u001b[38;5;28mfloat\u001b[39m)):\n\u001b[1;32m---> 25\u001b[0m         \u001b[38;5;28;01mraise\u001b[39;00m IncomeIsNotNumberError(\u001b[38;5;124m'\u001b[39m\u001b[38;5;124mParameter \u001b[39m\u001b[38;5;124m\"\u001b[39m\u001b[38;5;124mamount\u001b[39m\u001b[38;5;124m\"\u001b[39m\u001b[38;5;124m has to be a number\u001b[39m\u001b[38;5;124m'\u001b[39m)\n\u001b[0;32m     26\u001b[0m     \u001b[38;5;28;01mreturn\u001b[39;00m \u001b[38;5;28mfloat\u001b[39m(Decimal(\u001b[38;5;28mstr\u001b[39m(amount)) \u001b[38;5;241m*\u001b[39m find_tax_range(amount))\n",
      "\u001b[1;31mIncomeIsNotNumberError\u001b[0m: Parameter \"amount\" has to be a number"
     ]
    }
   ],
   "source": [
    "from tax.income_tax import calculate_tax\n",
    "print(calculate_tax(77000))\n",
    "print(calculate_tax('abd'))"
   ]
  },
  {
   "cell_type": "markdown",
   "metadata": {},
   "source": [
    "### 37 函式選單模組"
   ]
  },
  {
   "cell_type": "code",
   "execution_count": 4,
   "metadata": {},
   "outputs": [
    {
     "name": "stdout",
     "output_type": "stream",
     "text": [
      "13\n"
     ]
    }
   ],
   "source": [
    "from menu.menu import menu\n",
    "import operator\n",
    "\n",
    "a, b = 10, 3\n",
    "my_menu = menu(        \n",
    "            add=operator.add,\n",
    "            sub=operator.sub,\n",
    "            mul=operator.mul,\n",
    "            div=operator.truediv)\n",
    "\n",
    "print(my_menu()(a, b))"
   ]
  }
 ],
 "metadata": {
  "kernelspec": {
   "display_name": "Python 3",
   "language": "python",
   "name": "python3"
  },
  "language_info": {
   "codemirror_mode": {
    "name": "ipython",
    "version": 3
   },
   "file_extension": ".py",
   "mimetype": "text/x-python",
   "name": "python",
   "nbconvert_exporter": "python",
   "pygments_lexer": "ipython3",
   "version": "3.13.0"
  }
 },
 "nbformat": 4,
 "nbformat_minor": 2
}
