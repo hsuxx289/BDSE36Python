{
 "cells": [
  {
   "cell_type": "markdown",
   "metadata": {},
   "source": [
    "## 數值處理"
   ]
  },
  {
   "cell_type": "markdown",
   "metadata": {},
   "source": [
    "### 01 猜數字"
   ]
  },
  {
   "cell_type": "code",
   "execution_count": 3,
   "metadata": {},
   "outputs": [
    {
     "name": "stdout",
     "output_type": "stream",
     "text": [
      "猜得太高，再試一次\n",
      "猜得太低，再試一次\n",
      "猜得太高，再試一次\n",
      "請輸入(0-99)之整數\n",
      "答對了！答案是30\n"
     ]
    }
   ],
   "source": [
    "import random\n",
    "\n",
    "def guessing_game():\n",
    "    answer = random.randint(0, 99)\n",
    "\n",
    "    while True:\n",
    "        num_str = input('請猜數字 (0-99)')\n",
    "\n",
    "        if num_str.isdigit():\n",
    "            num = int(num_str)\n",
    "\n",
    "            if num == answer:\n",
    "                print(f'答對了！答案是{answer}')\n",
    "                break\n",
    "            elif num > answer:\n",
    "                print('猜得太高，再試一次')\n",
    "            else:\n",
    "                print('猜得太低，再試一次')\n",
    "        \n",
    "        else:\n",
    "            print('請輸入(0-99)之整數')\n",
    "    \n",
    "\n",
    "guessing_game()"
   ]
  },
  {
   "cell_type": "markdown",
   "metadata": {},
   "source": [
    "### 02 加總"
   ]
  },
  {
   "cell_type": "code",
   "execution_count": 7,
   "metadata": {},
   "outputs": [
    {
     "name": "stdout",
     "output_type": "stream",
     "text": [
      "75\n",
      "85\n"
     ]
    }
   ],
   "source": [
    "def my_sum(*args, start=0):\n",
    "    \n",
    "    sum = 0\n",
    "    \n",
    "    for num in args:\n",
    "        sum += num\n",
    "    \n",
    "    return start + sum\n",
    "\n",
    "print(my_sum(10, 11, 12, 13, 14, 15))\n",
    "print(my_sum(10, 11, 12, 13, 14, 15, start=10))"
   ]
  },
  {
   "cell_type": "markdown",
   "metadata": {},
   "source": [
    "### 03 平均"
   ]
  },
  {
   "cell_type": "code",
   "execution_count": 5,
   "metadata": {},
   "outputs": [
    {
     "name": "stdout",
     "output_type": "stream",
     "text": [
      "could not convert string to float: '2e'\n",
      "跑 1 次的平均時間為 50.00 分鐘\n"
     ]
    }
   ],
   "source": [
    "def run_timing():\n",
    "    count = 0\n",
    "    time_sum = 0.0\n",
    "    \n",
    "    while time := input(\"輸入跑 10 公里時間: (直接按 Enter 結束)\"):\n",
    "\n",
    "        try:\n",
    "            time = float(time)\n",
    "            time_sum += time\n",
    "            count += 1\n",
    "        except Exception as e:\n",
    "            print(e)\n",
    "\n",
    "    if count > 0:\n",
    "        avg_time = time_sum / count\n",
    "    else:\n",
    "        avg_time = 0.0\n",
    "\n",
    "    print(f'跑 {count} 次的平均時間為 {avg_time:.2f} 分鐘')\n",
    "\n",
    "run_timing()"
   ]
  },
  {
   "cell_type": "markdown",
   "metadata": {},
   "source": [
    "### 04 將16進位轉為10進位"
   ]
  },
  {
   "cell_type": "code",
   "execution_count": null,
   "metadata": {},
   "outputs": [
    {
     "name": "stdout",
     "output_type": "stream",
     "text": [
      "十進位結果: 42\n"
     ]
    }
   ],
   "source": [
    "def hex_to_dec():\n",
    "    hex = input('輸入 16 進位數字')\n",
    "    dec = 0\n",
    "\n",
    "    for power, digit in enumerate(reversed(hex)):\n",
    "        if digit.isdigit():\n",
    "            digit = int(digit)\n",
    "        else:\n",
    "            digit = ord(digit.upper()) - ord('A') + 10\n",
    "\n",
    "        dec += digit * (16 ** power)\n",
    "\n",
    "    print(f'十進位結果: {dec}')\n",
    "\n",
    "hex_to_dec()\n",
    "\n",
    "'''\n",
    "hex = '0x2A'\n",
    "\n",
    "dec = int(hex, 16)\n",
    "\n",
    "dec\n",
    "'''"
   ]
  },
  {
   "cell_type": "markdown",
   "metadata": {},
   "source": [
    "## 字串處理"
   ]
  },
  {
   "cell_type": "markdown",
   "metadata": {},
   "source": [
    "### 05 豬拉丁文"
   ]
  },
  {
   "cell_type": "code",
   "execution_count": 12,
   "metadata": {},
   "outputs": [
    {
     "name": "stdout",
     "output_type": "stream",
     "text": [
      "ythonpay\n"
     ]
    }
   ],
   "source": [
    "def pig_latin(word):\n",
    "    if word[0] in 'aeiou':\n",
    "        return f'{word}way'\n",
    "    else:\n",
    "        return f'{word[1:]}{word[0]}ay'\n",
    "\n",
    "print(pig_latin('python'))"
   ]
  },
  {
   "cell_type": "markdown",
   "metadata": {},
   "source": [
    "### 06 豬拉丁文 - 句子翻譯機"
   ]
  },
  {
   "cell_type": "code",
   "execution_count": null,
   "metadata": {},
   "outputs": [
    {
     "name": "stdout",
     "output_type": "stream",
     "text": [
      "histay isway away esttay\n"
     ]
    }
   ],
   "source": [
    "def pl_sentence(sentence):\n",
    "    output = []\n",
    "    \n",
    "    for word in sentence.lower().split():\n",
    "        if word[0] in 'aeiou':\n",
    "            output.append(f'{word}way')\n",
    "        else:\n",
    "            output.append(f'{word[1:]}{word[0]}ay')\n",
    "\n",
    "    return ' '.join(output)\n",
    "\n",
    "print(pl_sentence('this is a test'))"
   ]
  },
  {
   "cell_type": "markdown",
   "metadata": {},
   "source": [
    "### 07 ROT13 加密法"
   ]
  },
  {
   "cell_type": "code",
   "execution_count": null,
   "metadata": {},
   "outputs": [
    {
     "name": "stdout",
     "output_type": "stream",
     "text": [
      "nccyr\n"
     ]
    }
   ],
   "source": [
    "def rot13(word):\n",
    "    output = []\n",
    "\n",
    "    for char in word.lower():\n",
    "        char_rot13 = ord(char) + 13\n",
    "\n",
    "        if char_rot13 > ord('z'):\n",
    "            char_rot13 -= 26\n",
    "        \n",
    "        output.append(chr(char_rot13))\n",
    "    \n",
    "    return ''.join(output)\n",
    "\n",
    "print(rot13('apple'))\n",
    "\n",
    "'''\n",
    "# python 內建有支援此加密法\n",
    "import codecs\n",
    "\n",
    "print(codecs.encode('apple', 'rot_13))\n",
    "'''"
   ]
  },
  {
   "cell_type": "markdown",
   "metadata": {},
   "source": [
    "### 08 字元排序"
   ]
  },
  {
   "cell_type": "code",
   "execution_count": null,
   "metadata": {},
   "outputs": [
    {
     "name": "stdout",
     "output_type": "stream",
     "text": [
      "hnoPty\n"
     ]
    }
   ],
   "source": [
    "def strsort(word):\n",
    "    return ''.join(sorted(word, key=str.lower))\n",
    "\n",
    "print(strsort('Python'))"
   ]
  },
  {
   "cell_type": "markdown",
   "metadata": {},
   "source": [
    "## list 與 tuple"
   ]
  }
 ],
 "metadata": {
  "kernelspec": {
   "display_name": "Python 3",
   "language": "python",
   "name": "python3"
  },
  "language_info": {
   "codemirror_mode": {
    "name": "ipython",
    "version": 3
   },
   "file_extension": ".py",
   "mimetype": "text/x-python",
   "name": "python",
   "nbconvert_exporter": "python",
   "pygments_lexer": "ipython3",
   "version": "3.13.0"
  }
 },
 "nbformat": 4,
 "nbformat_minor": 2
}
