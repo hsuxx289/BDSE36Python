{
 "cells": [
  {
   "cell_type": "markdown",
   "metadata": {},
   "source": [
    "## 數值處理"
   ]
  },
  {
   "cell_type": "markdown",
   "metadata": {},
   "source": [
    "### 01 猜數字"
   ]
  },
  {
   "cell_type": "code",
   "execution_count": 8,
   "metadata": {},
   "outputs": [
    {
     "name": "stdout",
     "output_type": "stream",
     "text": [
      "猜得太低，再試一次\n",
      "猜得太高，再試一次\n",
      "猜得太高，再試一次\n",
      "猜得太低，再試一次\n",
      "猜得太低，再試一次\n",
      "答對了！答案是62\n"
     ]
    }
   ],
   "source": [
    "import random\n",
    "\n",
    "def guessing_game():\n",
    "    answer = random.randint(0, 99)\n",
    "\n",
    "    while True:\n",
    "        num_str = input('請猜數字 (0-99)')\n",
    "\n",
    "        if num_str.isdigit():\n",
    "            num = int(num_str)\n",
    "\n",
    "            if num == answer:\n",
    "                print(f'答對了！答案是{answer}')\n",
    "                break\n",
    "            elif num > answer:\n",
    "                print('猜得太高，再試一次')\n",
    "            else:\n",
    "                print('猜得太低，再試一次')\n",
    "        \n",
    "        else:\n",
    "            print('請輸入(0-99)之整數')\n",
    "    \n",
    "\n",
    "guessing_game()"
   ]
  },
  {
   "cell_type": "markdown",
   "metadata": {},
   "source": [
    "### 02 加總"
   ]
  },
  {
   "cell_type": "code",
   "execution_count": 9,
   "metadata": {},
   "outputs": [
    {
     "name": "stdout",
     "output_type": "stream",
     "text": [
      "75\n",
      "85\n"
     ]
    }
   ],
   "source": [
    "def my_sum(*args, start=0):\n",
    "    \n",
    "    sum = 0\n",
    "    \n",
    "    for num in args:\n",
    "        sum += num\n",
    "    \n",
    "    return start + sum\n",
    "\n",
    "print(my_sum(10, 11, 12, 13, 14, 15))\n",
    "print(my_sum(10, 11, 12, 13, 14, 15, start=10))"
   ]
  },
  {
   "cell_type": "markdown",
   "metadata": {},
   "source": [
    "### 03 平均"
   ]
  },
  {
   "cell_type": "code",
   "execution_count": 10,
   "metadata": {},
   "outputs": [
    {
     "name": "stdout",
     "output_type": "stream",
     "text": [
      "跑 3 次的平均時間為 53.33 分鐘\n"
     ]
    }
   ],
   "source": [
    "def run_timing():\n",
    "    count = 0\n",
    "    time_sum = 0.0\n",
    "    \n",
    "    while time := input(\"輸入跑 10 公里時間: (直接按 Enter 結束)\"):\n",
    "\n",
    "        try:\n",
    "            time = float(time)\n",
    "            time_sum += time\n",
    "            count += 1\n",
    "        except Exception as e:\n",
    "            print(e)\n",
    "\n",
    "    if count > 0:\n",
    "        avg_time = time_sum / count\n",
    "    else:\n",
    "        avg_time = 0.0\n",
    "\n",
    "    print(f'跑 {count} 次的平均時間為 {avg_time:.2f} 分鐘')\n",
    "\n",
    "run_timing()"
   ]
  },
  {
   "cell_type": "markdown",
   "metadata": {},
   "source": [
    "### 04 將16進位轉為10進位"
   ]
  },
  {
   "cell_type": "code",
   "execution_count": 50,
   "metadata": {},
   "outputs": [
    {
     "name": "stdout",
     "output_type": "stream",
     "text": [
      "十進位結果: 42\n"
     ]
    }
   ],
   "source": [
    "def hex_to_dec():\n",
    "    hex = input('輸入 16 進位數字')\n",
    "    dec = 0\n",
    "\n",
    "    for power, digit in enumerate(reversed(hex)):\n",
    "        if digit.isdigit():\n",
    "            digit = int(digit)\n",
    "        else:\n",
    "            digit = ord(digit.upper()) - ord('A') + 10\n",
    "\n",
    "        dec += digit * (16 ** power)\n",
    "\n",
    "    print(f'十進位結果: {dec}')\n",
    "\n",
    "hex_to_dec()\n",
    "\n",
    "\n",
    "\n",
    "# hex = '0x2A'\n",
    "\n",
    "# dec = int(hex, 16)\n",
    "\n",
    "# dec\n"
   ]
  },
  {
   "cell_type": "markdown",
   "metadata": {},
   "source": [
    "## 字串處理"
   ]
  },
  {
   "cell_type": "markdown",
   "metadata": {},
   "source": [
    "### 05 豬拉丁文"
   ]
  },
  {
   "cell_type": "code",
   "execution_count": 12,
   "metadata": {},
   "outputs": [
    {
     "name": "stdout",
     "output_type": "stream",
     "text": [
      "ythonpay\n"
     ]
    }
   ],
   "source": [
    "def pig_latin(word):\n",
    "    if word[0] in 'aeiou':\n",
    "        return f'{word}way'\n",
    "    else:\n",
    "        return f'{word[1:]}{word[0]}ay'\n",
    "\n",
    "print(pig_latin('python'))"
   ]
  },
  {
   "cell_type": "markdown",
   "metadata": {},
   "source": [
    "### 06 豬拉丁文 - 句子翻譯機"
   ]
  },
  {
   "cell_type": "code",
   "execution_count": 13,
   "metadata": {},
   "outputs": [
    {
     "name": "stdout",
     "output_type": "stream",
     "text": [
      "histay isway away esttay\n"
     ]
    }
   ],
   "source": [
    "def pl_sentence(sentence):\n",
    "    output = []\n",
    "    \n",
    "    for word in sentence.lower().split():\n",
    "        if word[0] in 'aeiou':\n",
    "            output.append(f'{word}way')\n",
    "        else:\n",
    "            output.append(f'{word[1:]}{word[0]}ay')\n",
    "\n",
    "    return ' '.join(output)\n",
    "\n",
    "print(pl_sentence('this is a test'))"
   ]
  },
  {
   "cell_type": "markdown",
   "metadata": {},
   "source": [
    "### 07 ROT13 加密法"
   ]
  },
  {
   "cell_type": "code",
   "execution_count": 14,
   "metadata": {},
   "outputs": [
    {
     "name": "stdout",
     "output_type": "stream",
     "text": [
      "nccyr\n"
     ]
    },
    {
     "data": {
      "text/plain": [
       "\"\\n# python 內建有支援此加密法\\nimport codecs\\n\\nprint(codecs.encode('apple', 'rot_13))\\n\""
      ]
     },
     "execution_count": 14,
     "metadata": {},
     "output_type": "execute_result"
    }
   ],
   "source": [
    "def rot13(word):\n",
    "    output = []\n",
    "\n",
    "    for char in word.lower():\n",
    "        char_rot13 = ord(char) + 13\n",
    "\n",
    "        if char_rot13 > ord('z'):\n",
    "            char_rot13 -= 26\n",
    "        \n",
    "        output.append(chr(char_rot13))\n",
    "    \n",
    "    return ''.join(output)\n",
    "\n",
    "print(rot13('apple'))\n",
    "\n",
    "'''\n",
    "# python 內建有支援此加密法\n",
    "import codecs\n",
    "\n",
    "print(codecs.encode('apple', 'rot_13))\n",
    "'''"
   ]
  },
  {
   "cell_type": "markdown",
   "metadata": {},
   "source": [
    "### 08 字元排序"
   ]
  },
  {
   "cell_type": "code",
   "execution_count": 15,
   "metadata": {},
   "outputs": [
    {
     "name": "stdout",
     "output_type": "stream",
     "text": [
      "hnoPty\n"
     ]
    }
   ],
   "source": [
    "def strsort(word):\n",
    "    return ''.join(sorted(word, key=str.lower))\n",
    "\n",
    "print(strsort('Python'))"
   ]
  },
  {
   "cell_type": "markdown",
   "metadata": {},
   "source": [
    "## list 與 tuple"
   ]
  },
  {
   "cell_type": "markdown",
   "metadata": {},
   "source": [
    "### 09 擷取與合併多種容器的頭尾元素"
   ]
  },
  {
   "cell_type": "code",
   "execution_count": 16,
   "metadata": {},
   "outputs": [
    {
     "name": "stdout",
     "output_type": "stream",
     "text": [
      "ae\n",
      "[1, 5]\n"
     ]
    }
   ],
   "source": [
    "def first_last(seq):\n",
    "    return seq[:1] + seq[-1:]\n",
    "\n",
    "print(first_last(('abcde')))\n",
    "print(first_last([1, 2, 3, 4, 5]))"
   ]
  },
  {
   "cell_type": "markdown",
   "metadata": {},
   "source": [
    "### 10 萬用加總函式"
   ]
  },
  {
   "cell_type": "code",
   "execution_count": 17,
   "metadata": {},
   "outputs": [
    {
     "name": "stdout",
     "output_type": "stream",
     "text": [
      "()\n",
      "100\n",
      "abcde\n",
      "[10, 20, 30, 40, 50, 60]\n",
      "{'A': 1, 'B': 2, 'C': 3}\n"
     ]
    }
   ],
   "source": [
    "def mysum(*items):\n",
    "    \n",
    "    if not items:\n",
    "        return items\n",
    "    \n",
    "    output = items[0]\n",
    "\n",
    "    for item in items[1:]:\n",
    "        if isinstance(item, dict):\n",
    "            output.update(item)\n",
    "        else:\n",
    "            output += item\n",
    "    return output\n",
    "\n",
    "print(mysum())\n",
    "print(mysum(10, 20, 30, 40))\n",
    "print(mysum('abc', 'd', 'e'))\n",
    "print(mysum([10, 20, 30], [40, 50], [60]))\n",
    "print(mysum({'A': 1, 'B': 2}, {'C': 3}))"
   ]
  },
  {
   "cell_type": "markdown",
   "metadata": {},
   "source": [
    "### 11 依姓名排序聯絡資料"
   ]
  },
  {
   "cell_type": "code",
   "execution_count": 18,
   "metadata": {},
   "outputs": [
    {
     "name": "stdout",
     "output_type": "stream",
     "text": [
      "Ardern, Jacinda: primeminister@newzealand.gov\n",
      "Biden, Joe: president@usa.gov\n",
      "Macron, Emmanuel: president@france.gov\n",
      "Merkel, Angela: primeminister@germany.gov\n",
      "Trudeau, Justin: primeminister@cananda.gov\n"
     ]
    }
   ],
   "source": [
    "def alphabetize_names(people):\n",
    "\n",
    "    for person in sorted(people, key=lambda x:x[1]):\n",
    "        print(f'{person[1]}, {person[0]}: {person[2]}')\n",
    "\n",
    "    # import operator\n",
    "    # for person in sorted(people, key=operator.itemgetter(1)):\n",
    "    #     print(f'{person[1]}, {person[0]}: {person[2]}')\n",
    "\n",
    "people = {\n",
    "    ('Joe', 'Biden', 'president@usa.gov'),\n",
    "    ('Emmanuel', 'Macron', 'president@france.gov'),\n",
    "    ('Justin', 'Trudeau', 'primeminister@cananda.gov'),\n",
    "    ('Angela', 'Merkel', 'primeminister@germany.gov'),\n",
    "    ('Jacinda', 'Ardern', 'primeminister@newzealand.gov')\n",
    "}\n",
    "\n",
    "alphabetize_names(people)"
   ]
  },
  {
   "cell_type": "markdown",
   "metadata": {},
   "source": [
    "### 12 用排版格式輸出資料"
   ]
  },
  {
   "cell_type": "code",
   "execution_count": 19,
   "metadata": {},
   "outputs": [
    {
     "name": "stdout",
     "output_type": "stream",
     "text": [
      "Letterman   Cindy     93\n",
      "Williams    Eddie     91\n",
      "Wooding     Alice     89\n",
      "Johnson     Bob       86\n",
      "Moor        David     86\n"
     ]
    }
   ],
   "source": [
    "def sorted_grades(grades):\n",
    "    grades.sort(key=lambda x:x[2], reverse=True)\n",
    "    output = []\n",
    "    for first, last, grade in grades:\n",
    "        output.append(f'{last:12s}{first:10s}{grade}')\n",
    "\n",
    "    return '\\n'.join(output)\n",
    "\n",
    "# import operator\n",
    "# def sorted_grades(grades):\n",
    "#     grades.sort(key=operator.itemgetter(2), reverse=True)\n",
    "#     output = []\n",
    "#     for grade in grades:\n",
    "#         output.append('{1:12s}{0:10s}{2}'.format(*grade))\n",
    "\n",
    "#     return '\\n'.join(output)\n",
    "\n",
    "grades = [\n",
    "    ('Alice', 'Wooding', 89),\n",
    "    ('Bob', 'Johnson', 86),\n",
    "    ('Cindy', 'Letterman', 93),\n",
    "    ('David', 'Moor', 86),\n",
    "    ('Eddie', 'Williams', 91),\n",
    "]\n",
    "\n",
    "print(sorted_grades(grades))"
   ]
  },
  {
   "cell_type": "markdown",
   "metadata": {},
   "source": [
    "### 13 尋找單字中重複最多次的字母"
   ]
  },
  {
   "cell_type": "code",
   "execution_count": 20,
   "metadata": {},
   "outputs": [
    {
     "name": "stdout",
     "output_type": "stream",
     "text": [
      "e 重複了 4 次\n"
     ]
    }
   ],
   "source": [
    "def most_repeated_letter(word):\n",
    "    chr = list(set(word))\n",
    "    chr_count = []\n",
    "    \n",
    "    for c in chr:\n",
    "        chr_count.append((c, word.count(c)))\n",
    "    \n",
    "    result = sorted(chr_count, key= lambda x:x[1])[-1]\n",
    "    print('{0} 重複了 {1} 次'.format(*result))\n",
    "\n",
    "word = 'independence'\n",
    "\n",
    "# import operator\n",
    "# from collections import Counter\n",
    "\n",
    "# def most_repeated_letter(word):\n",
    "#     result = Counter(word).most_common(1)[0]\n",
    "#     print('{0} 重複了 {1} 次'.format(*result))\n",
    "\n",
    "\n",
    "most_repeated_letter(word)"
   ]
  },
  {
   "cell_type": "markdown",
   "metadata": {},
   "source": [
    "## dict 與 set"
   ]
  },
  {
   "cell_type": "markdown",
   "metadata": {},
   "source": [
    "### 14 餐廳點餐機"
   ]
  },
  {
   "cell_type": "code",
   "execution_count": 21,
   "metadata": {},
   "outputs": [
    {
     "name": "stdout",
     "output_type": "stream",
     "text": [
      "三明治 50 元, 總金額 50 元\n",
      "咖啡 40 元, 總金額 90 元\n",
      "沙拉 30 元, 總金額 120 元\n",
      "您的帳單為 120 元\n"
     ]
    }
   ],
   "source": [
    "menu = {'三明治': 50,\n",
    "        '咖啡': 40,\n",
    "        '沙拉': 30}\n",
    "\n",
    "def order_meal():\n",
    "    total = 0\n",
    "    \n",
    "    while order := input(\"請點餐:\"):\n",
    "        \n",
    "        if order in menu:\n",
    "            price = menu[order]\n",
    "            total += price\n",
    "            print(f'{order} {price} 元, 總金額 {total} 元')\n",
    "\n",
    "        else:\n",
    "            print(f'抱歉! 我們沒有供應{order}')\n",
    "\n",
    "    print(f'您的帳單為 {total} 元')\n",
    "\n",
    "order_meal()"
   ]
  },
  {
   "cell_type": "markdown",
   "metadata": {},
   "source": [
    "### 15 降雨量資料庫"
   ]
  },
  {
   "cell_type": "code",
   "execution_count": 51,
   "metadata": {},
   "outputs": [
    {
     "name": "stdout",
     "output_type": "stream",
     "text": [
      "紐約: 10 mm\n",
      "波士頓: 6 mm\n",
      "華府: 3 mm\n"
     ]
    }
   ],
   "source": [
    "def record_rainfall():\n",
    "    rainfall = {}\n",
    "\n",
    "    while True:\n",
    "        city = input('輸入城市: ')\n",
    "        if not city:\n",
    "            break\n",
    "        \n",
    "        rain_mm = input('輸入雨量(mm): ')\n",
    "        if not rain_mm:\n",
    "            rain_mm = 0\n",
    "\n",
    "        rainfall[city] = rainfall.get(city, 0) + int(rain_mm)\n",
    "\n",
    "    for city, rain in rainfall.items():\n",
    "        print(f'{city}: {rain} mm')\n",
    "\n",
    "# from collections import defaultdict\n",
    "\n",
    "# def record_rainfall():\n",
    "#     rainfall = defaultdict(int)\n",
    "\n",
    "#     while True:\n",
    "#         if not (city := input('輸入城市: ')):\n",
    "#             break\n",
    "#         if not (rain_mm := input('輸入雨量(mm): ')):\n",
    "#             rain_mm = 0\n",
    "\n",
    "#         rainfall[city] += int(rain_mm)\n",
    "\n",
    "#     for city, rain in rainfall.items():\n",
    "#         print(f'{city}: {rain} mm')\n",
    "\n",
    "record_rainfall()"
   ]
  },
  {
   "cell_type": "markdown",
   "metadata": {},
   "source": [
    "### 16 有幾個不重複的數字"
   ]
  },
  {
   "cell_type": "code",
   "execution_count": 23,
   "metadata": {},
   "outputs": [
    {
     "name": "stdout",
     "output_type": "stream",
     "text": [
      "不重複數字共 4 個\n"
     ]
    }
   ],
   "source": [
    "def unique_num_len(numbers):\n",
    "    print(f'不重複數字共 {len(set(numbers))} 個')\n",
    "\n",
    "numbers = [1, 2, 3, 1, 2, 3, 4, 1, 2]\n",
    "unique_num_len(numbers)"
   ]
  },
  {
   "cell_type": "markdown",
   "metadata": {},
   "source": [
    "### 17 比較兩個dict 的差異"
   ]
  },
  {
   "cell_type": "code",
   "execution_count": 24,
   "metadata": {},
   "outputs": [
    {
     "name": "stdout",
     "output_type": "stream",
     "text": [
      "{'c': [3, None], 'd': [5, 4], 'e': [None, 6]}\n"
     ]
    }
   ],
   "source": [
    "def diff_dict(first, second):\n",
    "    output = {}\n",
    "    all_keys = sorted(first.keys() | second.keys())\n",
    "\n",
    "    for key in all_keys:\n",
    "        if first.get(key) != second.get(key):\n",
    "            output[key] = [first.get(key), second.get(key)]\n",
    "    \n",
    "    return output\n",
    "\n",
    "d1 = {'a': 1, 'b': 2, 'c' : 3, 'd' : 5}\n",
    "d2 = {'a': 1, 'b': 2, 'd' : 4, 'e' : 6}\n",
    "print(diff_dict(d1, d2))"
   ]
  },
  {
   "cell_type": "markdown",
   "metadata": {},
   "source": [
    "## 檔案處理"
   ]
  },
  {
   "cell_type": "markdown",
   "metadata": {},
   "source": [
    "### 18 讀出檔案最後一行"
   ]
  },
  {
   "cell_type": "code",
   "execution_count": 25,
   "metadata": {},
   "outputs": [
    {
     "name": "stdout",
     "output_type": "stream",
     "text": [
      "192.168.114.117 - grace [12/Oct/2000:17:15:54] \"GET /main HTTP/1.1\" 200 5603\n"
     ]
    }
   ],
   "source": [
    "# def read_final_line(file):\n",
    "#     f = open(file, 'r')\n",
    "#     while line := f.readline():\n",
    "#         lastline = line\n",
    "#     f.close()\n",
    "#     return lastline\n",
    "\n",
    "def read_final_line(file):\n",
    "    with open(file, 'r') as f:\n",
    "        for line in f:\n",
    "            pass\n",
    "        return line\n",
    "    \n",
    "print(read_final_line('../../data/login.log'))"
   ]
  },
  {
   "cell_type": "markdown",
   "metadata": {},
   "source": [
    "### 19 擷取登入帳號資訊"
   ]
  },
  {
   "cell_type": "code",
   "execution_count": 26,
   "metadata": {},
   "outputs": [
    {
     "name": "stdout",
     "output_type": "stream",
     "text": [
      "{'root': '0',\n",
      " 'daemon': '1',\n",
      " 'bin': '2',\n",
      " 'sys': '3',\n",
      " 'sync': '4',\n",
      " 'games': '5',\n",
      " 'man': '6',\n",
      " 'lerner': '1000'}\n"
     ]
    }
   ],
   "source": [
    "import pprint\n",
    "\n",
    "def passwd_to_dict(file):\n",
    "    \n",
    "    users = {}\n",
    "    \n",
    "    with open(file) as f:\n",
    "        \n",
    "        for line in f:\n",
    "            user_info = line.split(':')\n",
    "            users.update({user_info[0]: user_info[2]})\n",
    "\n",
    "    return users\n",
    "\n",
    "pprint.pprint(passwd_to_dict('../../data/passwd.cfg'), sort_dicts=False)"
   ]
  },
  {
   "cell_type": "markdown",
   "metadata": {},
   "source": [
    "### 20 統計檔案的字元數 字數 行數"
   ]
  },
  {
   "cell_type": "code",
   "execution_count": 27,
   "metadata": {},
   "outputs": [
    {
     "name": "stdout",
     "output_type": "stream",
     "text": [
      "Characters: 164\n",
      "Word: 28\n",
      "Unique words: 20\n",
      "Lines: 11\n"
     ]
    }
   ],
   "source": [
    "def wordcount(file):\n",
    "    \n",
    "    result = {\n",
    "        'Characters' : 0,\n",
    "        'Word': 0,\n",
    "        'Unique words': 0,\n",
    "        'Lines': 0\n",
    "    }\n",
    "    \n",
    "    unique_words = set()\n",
    "    \n",
    "    with open(file, 'r') as f:\n",
    "        for line in f:\n",
    "            result['Lines'] += 1\n",
    "            result['Characters'] += len(line)\n",
    "            word = line.split()\n",
    "            result['Word'] += len(word)\n",
    "            unique_words.update(word)\n",
    "\n",
    "        result['Unique words'] = len(unique_words)\n",
    "\n",
    "    for key, value in result.items():\n",
    "        print(f'{key}: {value}')\n",
    "\n",
    "wordcount('../../data/text.txt')"
   ]
  },
  {
   "cell_type": "markdown",
   "metadata": {},
   "source": [
    "### 21 找出檔案內的最長單字"
   ]
  },
  {
   "cell_type": "code",
   "execution_count": 28,
   "metadata": {},
   "outputs": [
    {
     "data": {
      "text/plain": [
       "'complicated'"
      ]
     },
     "execution_count": 28,
     "metadata": {},
     "output_type": "execute_result"
    }
   ],
   "source": [
    "def find_longest_word(file):\n",
    "    \n",
    "    longest_word = ''\n",
    "    \n",
    "    with open(file, 'r') as f:\n",
    "        for line in f:\n",
    "            for word in line.replace('.', '').split():\n",
    "                if len(word) > len(longest_word):\n",
    "                    longest_word = word\n",
    "\n",
    "    return longest_word\n",
    "\n",
    "# def find_longest_word(file):\n",
    "    \n",
    "#     words = set()\n",
    "    \n",
    "#     with open(file, 'r') as f:\n",
    "#         for line in f:\n",
    "#             words.update(line.replace('.', '').split())\n",
    "    \n",
    "#     return sorted(words, key=len)[-1]\n",
    "\n",
    "find_longest_word('../../data/text2.txt')"
   ]
  },
  {
   "cell_type": "markdown",
   "metadata": {},
   "source": [
    "### 22 讀寫 CSV 檔"
   ]
  },
  {
   "cell_type": "code",
   "execution_count": 29,
   "metadata": {},
   "outputs": [],
   "source": [
    "import csv\n",
    "\n",
    "def passwd_to_csv(input, output):\n",
    "    with open(input, 'r') as f_read, \\\n",
    "            open(output,'w') as f_write:\n",
    "        csv_reader = csv.reader(f_read, delimiter=':')\n",
    "        csv_writer = csv.writer(f_write,delimiter='\\t', lineterminator='\\n')\n",
    "\n",
    "        for line in csv_reader:\n",
    "            csv_writer.writerow([line[0], [line[2]]])\n",
    "\n",
    "passwd_to_csv('../../data/passwd.cfg', '../../data/passwd.csv')"
   ]
  },
  {
   "cell_type": "markdown",
   "metadata": {},
   "source": [
    "### 23 讀取 JSON 檔"
   ]
  },
  {
   "cell_type": "code",
   "execution_count": 30,
   "metadata": {},
   "outputs": [
    {
     "name": "stdout",
     "output_type": "stream",
     "text": [
      "班級: 9a\n",
      "科目: math\n",
      "\t最高分: 100\n",
      "\t最低分: 65\n",
      "\t平均: 85.0\n",
      "科目: literature\n",
      "\t最高分: 98\n",
      "\t最低分: 78\n",
      "\t平均: 83.6\n",
      "科目: science\n",
      "\t最高分: 97\n",
      "\t最低分: 75\n",
      "\t平均: 86.4\n"
     ]
    }
   ],
   "source": [
    "import json\n",
    "from collections import defaultdict\n",
    "\n",
    "def print_scores(file):\n",
    "    with open(file) as json_file:\n",
    "        record = json.load(json_file)\n",
    "        result = defaultdict(list)\n",
    "\n",
    "        print(f'班級: {record['class']}')\n",
    "\n",
    "        for record in record['score']:\n",
    "            for subject, score in record.items():\n",
    "                result[subject].append(score)\n",
    "\n",
    "        for subject, score in result.items():\n",
    "            print(f'科目: {subject}')\n",
    "            print(f'\\t最高分: {max(score)}')\n",
    "            print(f'\\t最低分: {min(score)}')\n",
    "            print(f'\\t平均: {sum(score)/len(score)}')\n",
    "\n",
    "print_scores('../../data/score.json')"
   ]
  },
  {
   "cell_type": "markdown",
   "metadata": {},
   "source": [
    "### 24 批次檔案讀取"
   ]
  },
  {
   "cell_type": "code",
   "execution_count": 31,
   "metadata": {},
   "outputs": [
    {
     "name": "stdout",
     "output_type": "stream",
     "text": [
      "讀取檔案:  9a_score.json\n",
      "班級: 9a\n",
      "科目: math\n",
      "\t最高分: 100\n",
      "\t最低分: 65\n",
      "\t平均: 85.0\n",
      "科目: literature\n",
      "\t最高分: 98\n",
      "\t最低分: 78\n",
      "\t平均: 83.6\n",
      "科目: science\n",
      "\t最高分: 97\n",
      "\t最低分: 75\n",
      "\t平均: 86.4\n",
      "讀取檔案:  9b_score.json\n",
      "班級: 9b\n",
      "科目: math\n",
      "\t最高分: 100\n",
      "\t最低分: 62\n",
      "\t平均: 83.4\n",
      "科目: literature\n",
      "\t最高分: 92\n",
      "\t最低分: 65\n",
      "\t平均: 80.2\n",
      "科目: science\n",
      "\t最高分: 90\n",
      "\t最低分: 68\n",
      "\t平均: 73.6\n",
      "讀取檔案:  9c_score.json\n",
      "班級: 9c\n",
      "科目: math\n",
      "\t最高分: 95\n",
      "\t最低分: 66\n",
      "\t平均: 85.4\n",
      "科目: literature\n",
      "\t最高分: 99\n",
      "\t最低分: 74\n",
      "\t平均: 87.8\n",
      "科目: science\n",
      "\t最高分: 83\n",
      "\t最低分: 60\n",
      "\t平均: 68.2\n"
     ]
    }
   ],
   "source": [
    "import os, json\n",
    "from collections import defaultdict\n",
    "\n",
    "def print_dir_scores(dir):\n",
    "    for file in os.listdir(dir):\n",
    "        if file.endswith('.json'):\n",
    "            print('讀取檔案: ', file )\n",
    "            print_scores(os.path.join(dir,file))\n",
    "\n",
    "# import pathlib\n",
    "# def print_dir_scores(dir):\n",
    "#     p = pathlib.Path(dir)\n",
    "#     for file in p.iterdir():\n",
    "#         if file.suffix == '.json':\n",
    "#             print('讀取檔案: ', file)\n",
    "#             print_scores(file)\n",
    "\n",
    "# import glob\n",
    "# def print_dir_scores(dir):\n",
    "#     for file in glob.glob(dir + r'/*.json'):\n",
    "#         print('讀取檔案: ', file)\n",
    "#         print_scores(file)\n",
    "\n",
    "print_dir_scores('../../data/scores')"
   ]
  },
  {
   "cell_type": "markdown",
   "metadata": {},
   "source": [
    "## 函式"
   ]
  },
  {
   "cell_type": "markdown",
   "metadata": {},
   "source": [
    "### 選擇性參數的預設值"
   ]
  },
  {
   "cell_type": "code",
   "execution_count": 32,
   "metadata": {},
   "outputs": [
    {
     "name": "stdout",
     "output_type": "stream",
     "text": [
      "Hi there, Python!\n"
     ]
    }
   ],
   "source": [
    "def hello(name, greeting='Hello'):\n",
    "    return f'{greeting}, {name}!'\n",
    "\n",
    "print(hello('Python', greeting='Hi there'))"
   ]
  },
  {
   "cell_type": "markdown",
   "metadata": {},
   "source": [
    "### 25 XML 產生器"
   ]
  },
  {
   "cell_type": "code",
   "execution_count": 33,
   "metadata": {},
   "outputs": [
    {
     "name": "stdout",
     "output_type": "stream",
     "text": [
      "<foo a=\"1\" b=\"2\" c=\"3\">bar</foo>\n"
     ]
    }
   ],
   "source": [
    "def myxml(tag, content='', **kwargs):\n",
    "    attrs_list = []\n",
    "    for key, value in kwargs.items():\n",
    "        attrs_list.append(f' {key}=\"{value}\"')\n",
    "    attrs = ''.join(attrs_list)\n",
    "    return f'<{tag}{attrs}>{content}</{tag}>'\n",
    "\n",
    "print(myxml('foo', 'bar', a=1, b=2, c=3))"
   ]
  },
  {
   "cell_type": "markdown",
   "metadata": {},
   "source": [
    "### 26 簡易前序式計算機"
   ]
  },
  {
   "cell_type": "code",
   "execution_count": 34,
   "metadata": {},
   "outputs": [
    {
     "name": "stdout",
     "output_type": "stream",
     "text": [
      "5.0\n"
     ]
    }
   ],
   "source": [
    "def prefix_cal(exp):\n",
    "    operation = {\n",
    "        '+': lambda a, b: a + b,\n",
    "        '-': lambda a, b: a - b,\n",
    "        '*': lambda a, b: a * b,\n",
    "        '/': lambda a, b: a / b\n",
    "    }\n",
    "\n",
    "    op, num1, num2, = exp.split()\n",
    "    \n",
    "    return operation[op](float(num1), float(num2))\n",
    "\n",
    "print(prefix_cal('+ 2 3'))"
   ]
  },
  {
   "cell_type": "code",
   "execution_count": 35,
   "metadata": {},
   "outputs": [
    {
     "data": {
      "text/plain": [
       "3.0"
      ]
     },
     "execution_count": 35,
     "metadata": {},
     "output_type": "execute_result"
    }
   ],
   "source": [
    "# 完整版前序式計算機\n",
    "import operator\n",
    "\n",
    "def prefix_cal(exp):\n",
    "    operation = {\n",
    "        '+': operator.add,\n",
    "        '-': operator.sub,\n",
    "        '*': operator.mul,\n",
    "        '/': operator.truediv\n",
    "    }\n",
    "\n",
    "    # 判斷時先把小數點去掉 因為isnumeric() 會判斷成字串\n",
    "    def isnumber(num):\n",
    "        return num.replace('.','').isnumeric()\n",
    "    \n",
    "    items = exp.split()\n",
    "    \n",
    "    # 算到剩下最後一個就是答案\n",
    "    while len(items) > 1:\n",
    "        for i in range(len(items) - 2):\n",
    "            # 每次取三個元素 只要剛好是前序式 就跳出for 迴圈\n",
    "            op, num1, num2, = items[i:i + 3]\n",
    "            if op in operation and isnumber(num1) and isnumber(num2):\n",
    "                break\n",
    "        # 把算完的結果放回去\n",
    "        items = items[:i] + [str(operation[op](float(num1), float(num2)))] + items[i+3:]\n",
    "\n",
    "    return float(items[0])\n",
    "\n",
    "prefix_cal('/ * + 2 4 3 + 1 5')"
   ]
  },
  {
   "cell_type": "markdown",
   "metadata": {},
   "source": [
    "### 27 自訂密碼產生器"
   ]
  },
  {
   "cell_type": "code",
   "execution_count": 36,
   "metadata": {},
   "outputs": [
    {
     "name": "stdout",
     "output_type": "stream",
     "text": [
      "3cij999i63\n"
     ]
    }
   ],
   "source": [
    "import random\n",
    "\n",
    "def set_password_source(source):\n",
    "    def password_gen(length):\n",
    "        output = []\n",
    "        for i in range(length):\n",
    "            output.append(random.choice(source))\n",
    "        return ''.join(output)\n",
    "    return password_gen\n",
    "\n",
    "my_password_gen = set_password_source('0123456789abcdefghij')\n",
    "print(my_password_gen(10))"
   ]
  },
  {
   "cell_type": "markdown",
   "metadata": {},
   "source": [
    "## 函數式程式設計"
   ]
  },
  {
   "cell_type": "markdown",
   "metadata": {},
   "source": [
    "### 28 輸出一組數字的絕對值"
   ]
  },
  {
   "cell_type": "code",
   "execution_count": 37,
   "metadata": {},
   "outputs": [
    {
     "name": "stdout",
     "output_type": "stream",
     "text": [
      "[1, 2, 3, 4, 5]\n"
     ]
    }
   ],
   "source": [
    "def abs_numbers(numbers):\n",
    "    return [abs(x) for x in numbers]\n",
    "\n",
    "# map()\n",
    "# def abs_numbers(numbers):\n",
    "#     return list(map(abs, numbers))\n",
    "\n",
    "print(abs_numbers([1, -2, 3, -4, 5]))"
   ]
  },
  {
   "cell_type": "markdown",
   "metadata": {},
   "source": [
    "### 29 只加總資料中的數字"
   ]
  },
  {
   "cell_type": "code",
   "execution_count": 38,
   "metadata": {},
   "outputs": [
    {
     "name": "stdout",
     "output_type": "stream",
     "text": [
      "100\n"
     ]
    }
   ],
   "source": [
    "def sum_numbers(data):\n",
    "    return sum(int(d) for d in data.split() if d.isdigit())\n",
    "\n",
    "# 使用filter()\n",
    "# def sum_numbers(data):\n",
    "#     return sum(list(map(int,\n",
    "#                         filter(lambda d: d.isdigit(),\n",
    "#                                data.split()))))\n",
    "\n",
    "print(sum_numbers('10 abc 20 de44 30 55fg 40'))"
   ]
  },
  {
   "cell_type": "markdown",
   "metadata": {},
   "source": [
    "### 30 用巢狀生成式壓平二維list"
   ]
  },
  {
   "cell_type": "code",
   "execution_count": 39,
   "metadata": {},
   "outputs": [
    {
     "name": "stdout",
     "output_type": "stream",
     "text": [
      "[1, 2, 3, 4]\n"
     ]
    }
   ],
   "source": [
    "# def flatten(data):\n",
    "#     my_list = []\n",
    "#     for x in data:\n",
    "#         for y in x:\n",
    "#             my_list.append(y)\n",
    "#     return my_list\n",
    "\n",
    "def flatten(data):\n",
    "    return [y for x in data for y in x]\n",
    "\n",
    "\n",
    "print(flatten([[1, 2], [3, 4]]))"
   ]
  },
  {
   "cell_type": "markdown",
   "metadata": {},
   "source": [
    "### 31 豬拉丁文-檔案翻譯機"
   ]
  },
  {
   "cell_type": "code",
   "execution_count": 40,
   "metadata": {},
   "outputs": [
    {
     "name": "stdout",
     "output_type": "stream",
     "text": [
      "eautifulbay isway etterbay hantay uglyway explicitway isway etterbay hantay implicitway implesay isway etterbay hantay omplexcay omplexcay isway etterbay hantay omplicatedcay latfay isway etterbay hantay estednay parsesay isway etterbay hantay enseday eadabilityray ountscay\n"
     ]
    }
   ],
   "source": [
    "def pl_word(word):\n",
    "    if word[0] in 'aeiou':\n",
    "        return f'{word}way'\n",
    "    else:\n",
    "        return f'{word[1:]}{word[0]}ay'\n",
    "\n",
    "def pl_file(file):\n",
    "    with open(file, 'r') as f:\n",
    "        return ' '.join([pl_word(word.lower().replace('.', ''))\n",
    "                         for line in f\n",
    "                            for word in line.split()])\n",
    "\n",
    "print(pl_file('../../data/text2.txt'))\n",
    "\n"
   ]
  },
  {
   "cell_type": "code",
   "execution_count": 41,
   "metadata": {},
   "outputs": [
    {
     "name": "stdout",
     "output_type": "stream",
     "text": [
      "{1: 'a', 2: 'b', 3: 'c'}\n"
     ]
    }
   ],
   "source": [
    "def flipped_dict(input_dict):\n",
    "    return {value: key for key, value in input_dict.items()}\n",
    "\n",
    "# def flipped_dict(input_dict):\n",
    "#     return {input_dict[key]: key for key in input_dict}\n",
    "\n",
    "print(flipped_dict({'a': 1, 'b': 2, 'c':3}))"
   ]
  },
  {
   "cell_type": "markdown",
   "metadata": {},
   "source": [
    "### 33 擷取登入帳號資訊 (生成式版)"
   ]
  },
  {
   "cell_type": "code",
   "execution_count": 42,
   "metadata": {},
   "outputs": [
    {
     "name": "stdout",
     "output_type": "stream",
     "text": [
      "{'root': 'x', 'daemon': 'x', 'bin': 'x', 'sys': 'x', 'sync': 'x', 'games': 'x', 'man': 'x', 'lerner': 'x'}\n"
     ]
    }
   ],
   "source": [
    "def passwd_to_dict_2(file):\n",
    "    with open(file, 'r') as f:\n",
    "        dic = {words[0]: words[1] for words in [line.split(':') for line in f]}\n",
    "    return dic\n",
    "\n",
    "print(passwd_to_dict_2('../../data/passwd.cfg'))"
   ]
  },
  {
   "cell_type": "markdown",
   "metadata": {},
   "source": [
    "### 34 過濾檔案中特定條件的單字"
   ]
  },
  {
   "cell_type": "code",
   "execution_count": 43,
   "metadata": {},
   "outputs": [
    {
     "name": "stdout",
     "output_type": "stream",
     "text": [
      "['Beautiful', 'complicated', 'Readability']\n"
     ]
    }
   ],
   "source": [
    "def word_filter(file):\n",
    "    vowels = {'a', 'e', 'i', 'o', 'u'}\n",
    "    with open(file, 'r') as f:\n",
    "        words = [word.replace('.','')\n",
    "                 for line in f \n",
    "                    for word in line.split()\n",
    "                        if len(set(word.lower()) & vowels) >= 3]\n",
    "    return words\n",
    "print(word_filter('../../data/text2.txt'))"
   ]
  },
  {
   "cell_type": "markdown",
   "metadata": {},
   "source": [
    "### 35 希伯來數字密碼"
   ]
  },
  {
   "cell_type": "code",
   "execution_count": 44,
   "metadata": {},
   "outputs": [
    {
     "data": {
      "text/plain": [
       "{'a': 1,\n",
       " 'b': 2,\n",
       " 'c': 3,\n",
       " 'd': 4,\n",
       " 'e': 5,\n",
       " 'f': 6,\n",
       " 'g': 7,\n",
       " 'h': 8,\n",
       " 'i': 9,\n",
       " 'j': 10,\n",
       " 'k': 11,\n",
       " 'l': 12,\n",
       " 'm': 13,\n",
       " 'n': 14,\n",
       " 'o': 15,\n",
       " 'p': 16,\n",
       " 'q': 17,\n",
       " 'r': 18,\n",
       " 's': 19,\n",
       " 't': 20,\n",
       " 'u': 21,\n",
       " 'v': 22,\n",
       " 'w': 23,\n",
       " 'x': 24,\n",
       " 'y': 25,\n",
       " 'z': 26}"
      ]
     },
     "execution_count": 44,
     "metadata": {},
     "output_type": "execute_result"
    }
   ],
   "source": [
    "# part I\n",
    "import string\n",
    "\n",
    "def gematria_dict():\n",
    "    return { char: index\n",
    "            for index, char\n",
    "            in enumerate(string.ascii_lowercase, 1)}\n",
    "\n",
    "GEMATRIA = gematria_dict()\n",
    "GEMATRIA"
   ]
  },
  {
   "cell_type": "code",
   "execution_count": 45,
   "metadata": {},
   "outputs": [
    {
     "name": "stdout",
     "output_type": "stream",
     "text": [
      "['puzzling', 'puzzling', 'puzzling', 'puzzling', 'explanation', 'explanation', 'ridiculous', 'upsetting', 'distributed', 'distributed', 'explanation', 'explanation', 'distributed', 'unsolicited', 'professor', 'distributed']\n"
     ]
    }
   ],
   "source": [
    "# part II\n",
    "# 計算希伯來數值\n",
    "def gematria_value(word):\n",
    "    \n",
    "    return sum(GEMATRIA[char]\n",
    "                for char in word.lower()\n",
    "                if char in GEMATRIA)\n",
    "\n",
    "# 比較每個字的希伯來數值\n",
    "import re\n",
    "\n",
    "def gematria_equal_words(input_word, file):\n",
    "    \n",
    "    input_value = gematria_value(input_word)\n",
    "\n",
    "    with open(file, 'r', encoding='utf-8') as f:\n",
    "        return[re.sub(r'\\W','', word)\n",
    "               for line in f\n",
    "               for word in line.lower().split()\n",
    "               if input_value == gematria_value(word)]\n",
    "    \n",
    "print(gematria_equal_words('programming', '../../data/book.txt'))"
   ]
  },
  {
   "cell_type": "code",
   "execution_count": 46,
   "metadata": {},
   "outputs": [
    {
     "name": "stdout",
     "output_type": "stream",
     "text": [
      "131\n",
      "131\n",
      "131\n"
     ]
    }
   ],
   "source": [
    "# 檢查希伯來值是否正確\n",
    "print(gematria_value('programming'))\n",
    "print(gematria_value('professor'))\n",
    "print(gematria_value('explanation'))"
   ]
  },
  {
   "cell_type": "markdown",
   "metadata": {},
   "source": [
    "## 模組與套件"
   ]
  },
  {
   "cell_type": "markdown",
   "metadata": {},
   "source": [
    "### 36 所得稅計算模組"
   ]
  },
  {
   "cell_type": "code",
   "execution_count": 47,
   "metadata": {},
   "outputs": [
    {
     "name": "stdout",
     "output_type": "stream",
     "text": [
      "23100.0\n"
     ]
    },
    {
     "ename": "IncomeIsNotNumberError",
     "evalue": "Parameter \"amount\" has to be a number",
     "output_type": "error",
     "traceback": [
      "\u001b[1;31m---------------------------------------------------------------------------\u001b[0m",
      "\u001b[1;31mIncomeIsNotNumberError\u001b[0m                    Traceback (most recent call last)",
      "Cell \u001b[1;32mIn[47], line 3\u001b[0m\n\u001b[0;32m      1\u001b[0m \u001b[38;5;28;01mfrom\u001b[39;00m \u001b[38;5;21;01mtax\u001b[39;00m\u001b[38;5;21;01m.\u001b[39;00m\u001b[38;5;21;01mincome_tax\u001b[39;00m \u001b[38;5;28;01mimport\u001b[39;00m calculate_tax\n\u001b[0;32m      2\u001b[0m \u001b[38;5;28mprint\u001b[39m(calculate_tax(\u001b[38;5;241m77000\u001b[39m))\n\u001b[1;32m----> 3\u001b[0m \u001b[38;5;28mprint\u001b[39m(\u001b[43mcalculate_tax\u001b[49m\u001b[43m(\u001b[49m\u001b[38;5;124;43m'\u001b[39;49m\u001b[38;5;124;43mabd\u001b[39;49m\u001b[38;5;124;43m'\u001b[39;49m\u001b[43m)\u001b[49m)\n",
      "File \u001b[1;32mc:\\Users\\coffi\\BDSE36Python\\10. Practice\\tax\\income_tax.py:25\u001b[0m, in \u001b[0;36mcalculate_tax\u001b[1;34m(amount)\u001b[0m\n\u001b[0;32m     23\u001b[0m \u001b[38;5;28;01mdef\u001b[39;00m \u001b[38;5;21mcalculate_tax\u001b[39m(amount):\n\u001b[0;32m     24\u001b[0m     \u001b[38;5;28;01mif\u001b[39;00m \u001b[38;5;129;01mnot\u001b[39;00m (\u001b[38;5;28misinstance\u001b[39m(amount, \u001b[38;5;28mint\u001b[39m) \u001b[38;5;129;01mor\u001b[39;00m \u001b[38;5;28misinstance\u001b[39m(amount, \u001b[38;5;28mfloat\u001b[39m)):\n\u001b[1;32m---> 25\u001b[0m         \u001b[38;5;28;01mraise\u001b[39;00m IncomeIsNotNumberError(\u001b[38;5;124m'\u001b[39m\u001b[38;5;124mParameter \u001b[39m\u001b[38;5;124m\"\u001b[39m\u001b[38;5;124mamount\u001b[39m\u001b[38;5;124m\"\u001b[39m\u001b[38;5;124m has to be a number\u001b[39m\u001b[38;5;124m'\u001b[39m)\n\u001b[0;32m     26\u001b[0m     \u001b[38;5;28;01mreturn\u001b[39;00m \u001b[38;5;28mfloat\u001b[39m(Decimal(\u001b[38;5;28mstr\u001b[39m(amount)) \u001b[38;5;241m*\u001b[39m find_tax_range(amount))\n",
      "\u001b[1;31mIncomeIsNotNumberError\u001b[0m: Parameter \"amount\" has to be a number"
     ]
    }
   ],
   "source": [
    "from tax.income_tax import calculate_tax\n",
    "print(calculate_tax(77000))\n",
    "print(calculate_tax('abd'))"
   ]
  },
  {
   "cell_type": "markdown",
   "metadata": {},
   "source": [
    "### 37 函式選單模組"
   ]
  },
  {
   "cell_type": "code",
   "execution_count": null,
   "metadata": {},
   "outputs": [
    {
     "name": "stdout",
     "output_type": "stream",
     "text": [
      "13\n"
     ]
    }
   ],
   "source": [
    "from menu.menu import menu\n",
    "import operator\n",
    "\n",
    "a, b = 10, 3\n",
    "my_menu = menu(        \n",
    "            add=operator.add,\n",
    "            sub=operator.sub,\n",
    "            mul=operator.mul,\n",
    "            div=operator.truediv)\n",
    "\n",
    "print(my_menu()(a, b))"
   ]
  },
  {
   "cell_type": "markdown",
   "metadata": {},
   "source": [
    "## 物件與類別"
   ]
  },
  {
   "cell_type": "markdown",
   "metadata": {},
   "source": [
    "### 38 冰淇淋球"
   ]
  },
  {
   "cell_type": "code",
   "execution_count": null,
   "metadata": {},
   "outputs": [
    {
     "data": {
      "text/plain": [
       "'<__main__.Scoop_Maker object at 0x000001FC7DCB1940>'"
      ]
     },
     "execution_count": 6,
     "metadata": {},
     "output_type": "execute_result"
    }
   ],
   "source": [
    "class Scoop:\n",
    "    def __init__(self, flavor):\n",
    "        self.flavor = flavor\n",
    "\n",
    "class Scoop_Maker:\n",
    "    def create(self, flavors):\n",
    "        return [Scoop(flavor) for flavor in flavors]\n",
    "    \n",
    "Scoop_Maker = Scoop_Maker()\n",
    "scoops = Scoop_Maker.create(['巧克力', '香草', '薄荷'])\n",
    "\n",
    "for scoop in scoops:\n",
    "    print(scoop, scoop.flavor)"
   ]
  },
  {
   "cell_type": "markdown",
   "metadata": {},
   "source": [
    "### 39 冰淇淋碗"
   ]
  },
  {
   "cell_type": "code",
   "execution_count": null,
   "metadata": {},
   "outputs": [
    {
     "name": "stdout",
     "output_type": "stream",
     "text": [
      "巧克力/香草/薄荷\n"
     ]
    },
    {
     "data": {
      "text/plain": [
       "Bowl(scoops=[Scoop(巧克力), Scoop(香草), Scoop(薄荷)])"
      ]
     },
     "execution_count": 9,
     "metadata": {},
     "output_type": "execute_result"
    }
   ],
   "source": [
    "class Scoop:\n",
    "    def __init__(self, flavor):\n",
    "        self.flavor = flavor\n",
    "\n",
    "    def __repr__(self):\n",
    "        return f'Scoop({self.flavor})'\n",
    "\n",
    "class Bowl:\n",
    "    def __init__(self):\n",
    "        self.scoops = []\n",
    "\n",
    "    def add_scoop(self, *new_scoops):\n",
    "        for new_scoop in new_scoops:\n",
    "            self.scoops.append(new_scoop)\n",
    "\n",
    "    def __str__(self):\n",
    "        return '/'.join(scoop.flavor\n",
    "                        for scoop in self.scoops)\n",
    "    def __repr__(self):\n",
    "        return f'Bowl(scoops={self.scoops})'\n",
    "\n",
    "bowl = Bowl()\n",
    "bowl.add_scoop(Scoop('巧克力'))\n",
    "bowl.add_scoop(Scoop('香草'), Scoop('薄荷'))\n",
    "\n",
    "print(bowl)\n",
    "bowl"
   ]
  },
  {
   "cell_type": "markdown",
   "metadata": {},
   "source": [
    "### 40 類別屬性: 冰淇淋碗上限"
   ]
  },
  {
   "cell_type": "code",
   "execution_count": null,
   "metadata": {},
   "outputs": [
    {
     "name": "stdout",
     "output_type": "stream",
     "text": [
      "巧克力/香草/薄荷\n"
     ]
    },
    {
     "data": {
      "text/plain": [
       "Bowl(scoops=[Scoop(巧克力), Scoop(香草), Scoop(薄荷)])"
      ]
     },
     "execution_count": 11,
     "metadata": {},
     "output_type": "execute_result"
    }
   ],
   "source": [
    "class Scoop:\n",
    "    def __init__(self, flavor):\n",
    "        self.flavor = flavor\n",
    "\n",
    "    def __repr__(self):\n",
    "        return f'Scoop({self.flavor})'\n",
    "\n",
    "class Bowl:\n",
    "    max_scoops = 3\n",
    "\n",
    "    def __init__(self):\n",
    "        self.scoops = []\n",
    "\n",
    "    def add_scoop(self, *new_scoops):\n",
    "        for new_scoop in new_scoops:\n",
    "            if len(self.scoops) < self.max_scoops:\n",
    "                self.scoops.append(new_scoop)\n",
    "\n",
    "    def __str__(self):\n",
    "        return '/'.join(scoop.flavor\n",
    "                        for scoop in self.scoops)\n",
    "    def __repr__(self):\n",
    "        return f'Bowl(scoops={self.scoops})'\n",
    "\n",
    "bowl = Bowl()\n",
    "bowl.add_scoop(Scoop('巧克力'))\n",
    "bowl.add_scoop(Scoop('香草'), Scoop('薄荷'))\n",
    "bowl.add_scoop(Scoop('焦糖'), Scoop('抹茶'))\n",
    "\n",
    "print(bowl)\n",
    "bowl"
   ]
  },
  {
   "cell_type": "markdown",
   "metadata": {},
   "source": [
    "### 41 特大碗冰淇淋"
   ]
  },
  {
   "cell_type": "code",
   "execution_count": null,
   "metadata": {},
   "outputs": [
    {
     "name": "stdout",
     "output_type": "stream",
     "text": [
      "Bowl(scoops=[Scoop(巧克力), Scoop(香草), Scoop(薄荷), Scoop(焦糖), Scoop(抹茶)])\n"
     ]
    }
   ],
   "source": [
    "class Scoop:\n",
    "    def __init__(self, flavor):\n",
    "        self.flavor = flavor\n",
    "\n",
    "    def __repr__(self):\n",
    "        return f'Scoop({self.flavor})'\n",
    "\n",
    "class Bowl:\n",
    "    max_scoops = 3\n",
    "\n",
    "    def __init__(self):\n",
    "        self.scoops = []\n",
    "\n",
    "    def add_scoop(self, *new_scoops):\n",
    "        for new_scoop in new_scoops:\n",
    "            if len(self.scoops) < self.max_scoops:\n",
    "                self.scoops.append(new_scoop)\n",
    "\n",
    "    def __repr__(self):\n",
    "        return f'Bowl(scoops={self.scoops})'\n",
    "    \n",
    "class ExtraBowl(Bowl):\n",
    "    max_scoops = 5\n",
    "\n",
    "bowl = ExtraBowl()\n",
    "bowl.add_scoop(Scoop('巧克力'))\n",
    "bowl.add_scoop(Scoop('香草'), Scoop('薄荷'))\n",
    "bowl.add_scoop(Scoop('焦糖'), Scoop('抹茶'))\n",
    "\n",
    "print(bowl)"
   ]
  },
  {
   "cell_type": "markdown",
   "metadata": {},
   "source": [
    "### 42 以字串為鍵的自訂dict"
   ]
  },
  {
   "cell_type": "code",
   "execution_count": null,
   "metadata": {},
   "outputs": [
    {
     "name": "stdout",
     "output_type": "stream",
     "text": [
      "1\n",
      "3.14\n",
      "test\n",
      "None\n",
      "{'1': 1, '3.14': 3.14, '10': 'test', 'a': None}\n"
     ]
    }
   ],
   "source": [
    "class StrDict(dict):\n",
    "\n",
    "    def __setitem__(self, key, value):\n",
    "        dict.__setitem__(self, str(key), value)\n",
    "    \n",
    "    def __getitem__(self, key):\n",
    "        if not str(key) in self:\n",
    "            self[key] = None\n",
    "        return dict.__getitem__(self, str(key))\n",
    "\n",
    "sd = StrDict()\n",
    "sd[1] = 1\n",
    "sd[3.14] = 3.14\n",
    "sd['10'] = 'test'\n",
    "\n",
    "print(sd[1])\n",
    "print(sd['3.14'])\n",
    "print(sd[10])\n",
    "print(sd['a'])\n",
    "print(sd)"
   ]
  },
  {
   "cell_type": "markdown",
   "metadata": {},
   "source": [
    "### 43 動物類別"
   ]
  },
  {
   "cell_type": "code",
   "execution_count": null,
   "metadata": {},
   "outputs": [
    {
     "name": "stdout",
     "output_type": "stream",
     "text": [
      "Elephant(color='灰', leg_num=4)\n",
      "Zebra(color='黑白', leg_num=4)\n",
      "Snake(color='綠', leg_num=0)\n",
      "Parrot(color='灰', leg_num=2)\n"
     ]
    }
   ],
   "source": [
    "class Animal:\n",
    "    def __init__(self, color, leg_num):\n",
    "        self.species = self.__class__.__name__\n",
    "        self.color = color\n",
    "        self.leg_num = leg_num\n",
    "\n",
    "    def __repr__(self):\n",
    "        return f'{self.species}(color={self.color!r}, leg_num={self.leg_num})'\n",
    "    \n",
    "class Elephant(Animal):\n",
    "    def __init__(self, color):\n",
    "        super().__init__(color, 4)\n",
    "\n",
    "class Zebra(Animal):\n",
    "    def __init__(self, color):\n",
    "        super().__init__(color, 4)\n",
    "\n",
    "class Snake(Animal):\n",
    "    def __init__(self, color):\n",
    "        super().__init__(color, 0)\n",
    "\n",
    "class Parrot(Animal):\n",
    "    def __init__(self, color):\n",
    "        super().__init__(color, 2)\n",
    "\n",
    "elephant = Elephant('灰')\n",
    "zebra = Zebra('黑白')\n",
    "snake = Snake('綠')\n",
    "parrot = Parrot('灰')\n",
    "\n",
    "print(elephant)\n",
    "print(zebra)\n",
    "print(snake)\n",
    "print(parrot)"
   ]
  },
  {
   "cell_type": "code",
   "execution_count": null,
   "metadata": {},
   "outputs": [
    {
     "name": "stdout",
     "output_type": "stream",
     "text": [
      "Elephant(color='灰', leg_num=4)\n",
      "Zebra(color='黑白', leg_num=4)\n",
      "Snake(color='綠', leg_num=0)\n",
      "Parrot(color='灰', leg_num=2)\n"
     ]
    }
   ],
   "source": [
    "# 使用dataclass 改寫\n",
    "from dataclasses import dataclass\n",
    "\n",
    "@dataclass\n",
    "class Animal:\n",
    "   color: str\n",
    "   leg_num: int\n",
    "\n",
    "   def __post_init__(self):\n",
    "        self.species = self.__class__.__name__\n",
    "\n",
    "@dataclass    \n",
    "class Elephant(Animal):\n",
    "    leg_num: int = 4\n",
    "\n",
    "@dataclass\n",
    "class Zebra(Animal):\n",
    "    leg_num: int = 4\n",
    "\n",
    "@dataclass\n",
    "class Snake(Animal):\n",
    "    leg_num: int = 0\n",
    "\n",
    "@dataclass\n",
    "class Parrot(Animal):\n",
    "    leg_num: int = 2\n",
    "\n",
    "elephant = Elephant('灰')\n",
    "zebra = Zebra('黑白')\n",
    "snake = Snake('綠')\n",
    "parrot = Parrot('灰')\n",
    "\n",
    "print(elephant)\n",
    "print(zebra)\n",
    "print(snake)\n",
    "print(parrot)"
   ]
  },
  {
   "cell_type": "markdown",
   "metadata": {},
   "source": [
    "### 44 動物展示區類別"
   ]
  },
  {
   "cell_type": "code",
   "execution_count": null,
   "metadata": {},
   "outputs": [
    {
     "name": "stdout",
     "output_type": "stream",
     "text": [
      "展示區編號1: Elephant(color='灰', leg_num=4),Zebra(color='黑白', leg_num=4)\n",
      "展示區編號2: Snake(color='綠', leg_num=0),Parrot(color='灰', leg_num=2)\n"
     ]
    }
   ],
   "source": [
    "# 定義動物類別\n",
    "class Animal:\n",
    "    def __init__(self, color, leg_num):\n",
    "        self.species = self.__class__.__name__\n",
    "        self.color = color\n",
    "        self.leg_num = leg_num\n",
    "\n",
    "    def __repr__(self):\n",
    "        return f'{self.species}(color={self.color!r}, leg_num={self.leg_num})'\n",
    "    \n",
    "class Elephant(Animal):\n",
    "    def __init__(self, color):\n",
    "        super().__init__(color, 4)\n",
    "\n",
    "class Zebra(Animal):\n",
    "    def __init__(self, color):\n",
    "        super().__init__(color, 4)\n",
    "\n",
    "class Snake(Animal):\n",
    "    def __init__(self, color):\n",
    "        super().__init__(color, 0)\n",
    "\n",
    "class Parrot(Animal):\n",
    "    def __init__(self, color):\n",
    "        super().__init__(color, 2)\n",
    "\n",
    "\n",
    "\n",
    "# 定義展示區類別\n",
    "class Exhibit():\n",
    "    def __init__(self, id_num):\n",
    "        self.id_num = id_num\n",
    "        self.animals = []\n",
    "\n",
    "    def add_animals(self, *new_animals):\n",
    "        for animal in new_animals:\n",
    "            self.animals.append(animal)\n",
    "\n",
    "    def __repr__(self):\n",
    "        return f'展示區編號{self.id_num}: '+ \\\n",
    "               f'{\",\".join([str(animal) for animal in self.animals])}'\n",
    "    \n",
    "ex1 = Exhibit(1)\n",
    "ex2 = Exhibit(2)\n",
    "\n",
    "ex1.add_animals(Elephant('灰'), Zebra('黑白'))\n",
    "ex2.add_animals(Snake('綠'), Parrot('灰'))\n",
    "\n",
    "print(ex1)\n",
    "print(ex2)"
   ]
  },
  {
   "cell_type": "markdown",
   "metadata": {},
   "source": [
    "### 45 動物園類別"
   ]
  },
  {
   "cell_type": "code",
   "execution_count": null,
   "metadata": {},
   "outputs": [
    {
     "name": "stdout",
     "output_type": "stream",
     "text": [
      "動物園:\n",
      "展示區編號1: Elephant(color='灰', leg_num=4),Zebra(color='黑白', leg_num=4)\n",
      "展示區編號2: Snake(color='綠', leg_num=0),Parrot(color='灰', leg_num=2) \n",
      "\n",
      "灰色動物: [Elephant(color='灰', leg_num=4), Parrot(color='灰', leg_num=2)]\n",
      "4條腿的動物: [Elephant(color='灰', leg_num=4), Zebra(color='黑白', leg_num=4)]\n",
      "腿的總數: 10\n"
     ]
    }
   ],
   "source": [
    "# 定義動物類別\n",
    "class Animal:\n",
    "    def __init__(self, color, leg_num):\n",
    "        self.species = self.__class__.__name__\n",
    "        self.color = color\n",
    "        self.leg_num = leg_num\n",
    "\n",
    "    def __repr__(self):\n",
    "        return f'{self.species}(color={self.color!r}, leg_num={self.leg_num})'\n",
    "    \n",
    "class Elephant(Animal):\n",
    "    def __init__(self, color):\n",
    "        super().__init__(color, 4)\n",
    "\n",
    "class Zebra(Animal):\n",
    "    def __init__(self, color):\n",
    "        super().__init__(color, 4)\n",
    "\n",
    "class Snake(Animal):\n",
    "    def __init__(self, color):\n",
    "        super().__init__(color, 0)\n",
    "\n",
    "class Parrot(Animal):\n",
    "    def __init__(self, color):\n",
    "        super().__init__(color, 2)\n",
    "\n",
    "\n",
    "\n",
    "# 定義展示區類別\n",
    "class Exhibit():\n",
    "    def __init__(self, id_num):\n",
    "        self.id_num = id_num\n",
    "        self.animals = []\n",
    "\n",
    "    def add_animals(self, *new_animals):\n",
    "        for animal in new_animals:\n",
    "            self.animals.append(animal)\n",
    "\n",
    "    def __repr__(self):\n",
    "        return f'展示區編號{self.id_num}: '+ \\\n",
    "               f'{\",\".join([str(animal) for animal in self.animals])}'\n",
    "    \n",
    "# 定義動物園類別\n",
    "class Zoo():\n",
    "    def __init__(self):\n",
    "        self.exhibits = []\n",
    "\n",
    "    def add_exhibits(self, *new_exhibits):\n",
    "        for exhibit in new_exhibits:\n",
    "            self. exhibits.append(exhibit)\n",
    "\n",
    "    def __repr__(self):\n",
    "        return '動物園:\\n' + \\\n",
    "                    '\\n'.join([str(exhibit)\n",
    "                               for exhibit in self.exhibits])\n",
    "    \n",
    "    def animals_by_color(self, color):\n",
    "        return [animal for exhibit in self.exhibits\n",
    "                        for animal in exhibit.animals\n",
    "                        if animal.color == color]\n",
    "\n",
    "    def animals_by_leg_num(self, leg_num):\n",
    "        return [animal for exhibit in self.exhibits\n",
    "                        for animal in exhibit.animals\n",
    "                        if animal.leg_num == leg_num]\n",
    "    \n",
    "    def animals_total_leg_num(self):\n",
    "        return sum([animal.leg_num\n",
    "                    for exhibit in self.exhibits\n",
    "                    for animal in exhibit.animals])\n",
    "    \n",
    "\n",
    "zoo = Zoo()\n",
    "ex1 = Exhibit(1)\n",
    "ex2 = Exhibit(2)\n",
    "\n",
    "ex1.add_animals(Elephant('灰'), Zebra('黑白'))\n",
    "ex2.add_animals(Snake('綠'), Parrot('灰'))\n",
    "zoo.add_exhibits(ex1, ex2)\n",
    "\n",
    "print(zoo,'\\n')\n",
    "print('灰色動物:', zoo.animals_by_color('灰'))\n",
    "print('4條腿的動物:', zoo.animals_by_leg_num(4))\n",
    "print('腿的總數:', zoo.animals_total_leg_num())"
   ]
  },
  {
   "cell_type": "markdown",
   "metadata": {},
   "source": [
    "## 走訪器與產生器"
   ]
  },
  {
   "cell_type": "code",
   "execution_count": null,
   "metadata": {},
   "outputs": [
    {
     "name": "stdout",
     "output_type": "stream",
     "text": [
      "1\n",
      "2\n",
      "3\n",
      "4\n",
      "5\n"
     ]
    },
    {
     "ename": "StopIteration",
     "evalue": "",
     "output_type": "error",
     "traceback": [
      "\u001b[1;31m---------------------------------------------------------------------------\u001b[0m",
      "\u001b[1;31mStopIteration\u001b[0m                             Traceback (most recent call last)",
      "Cell \u001b[1;32mIn[55], line 21\u001b[0m\n\u001b[0;32m     19\u001b[0m \u001b[38;5;28mprint\u001b[39m(\u001b[38;5;28mnext\u001b[39m(iterator))\n\u001b[0;32m     20\u001b[0m \u001b[38;5;28mprint\u001b[39m(\u001b[38;5;28mnext\u001b[39m(iterator))\n\u001b[1;32m---> 21\u001b[0m \u001b[38;5;28mprint\u001b[39m(\u001b[38;5;28;43mnext\u001b[39;49m\u001b[43m(\u001b[49m\u001b[43miterator\u001b[49m\u001b[43m)\u001b[49m)\n",
      "\u001b[1;31mStopIteration\u001b[0m: "
     ]
    }
   ],
   "source": [
    "# 呼叫走訪器的方法\n",
    "n = [1, 2, 3, 4, 5]\n",
    "\n",
    "iterator = n.__iter__()\n",
    "\n",
    "print(iterator.__next__())\n",
    "print(iterator.__next__())\n",
    "print(iterator.__next__())\n",
    "print(iterator.__next__())\n",
    "print(iterator.__next__())\n",
    "print(iterator.__next__())\n",
    "\n",
    "# # 也可用另一種方式\n",
    "# iterator = iter(n)\n",
    "\n",
    "# print(next(iterator))\n",
    "# print(next(iterator))\n",
    "# print(next(iterator))\n",
    "# print(next(iterator))\n",
    "# print(next(iterator))\n",
    "# print(next(iterator))\n"
   ]
  },
  {
   "cell_type": "markdown",
   "metadata": {},
   "source": [
    "### 46 自訂enumerate 容器"
   ]
  },
  {
   "cell_type": "code",
   "execution_count": 56,
   "metadata": {},
   "outputs": [
    {
     "name": "stdout",
     "output_type": "stream",
     "text": [
      "0 -> a\n",
      "1 -> b\n",
      "2 -> c\n",
      "3 -> d\n",
      "4 -> e\n"
     ]
    }
   ],
   "source": [
    "class MyEnumerate:\n",
    "    def __init__(self, data):\n",
    "        self.data = data\n",
    "        self.index = 0\n",
    "\n",
    "    def __iter__(self):\n",
    "        return self\n",
    "    \n",
    "    def __next__(self):\n",
    "        if self.index >= len(self.data):\n",
    "            raise StopIteration\n",
    "        value = (self.index, self.data[self.index])\n",
    "        self.index += 1\n",
    "        return value\n",
    "    \n",
    "myEnum = MyEnumerate('abcde')\n",
    "for index, letter in myEnum:\n",
    "    print(f'{index} -> {letter}')"
   ]
  },
  {
   "cell_type": "markdown",
   "metadata": {},
   "source": [
    "### 47 循環取值器"
   ]
  },
  {
   "cell_type": "code",
   "execution_count": 57,
   "metadata": {},
   "outputs": [
    {
     "name": "stdout",
     "output_type": "stream",
     "text": [
      "a\n",
      "b\n",
      "c\n",
      "a\n",
      "b\n"
     ]
    }
   ],
   "source": [
    "# 走訪器類別\n",
    "class CycleIterator():\n",
    "    def __init__(self, data, max_times):\n",
    "        self.data = data\n",
    "        self.max_times = max_times\n",
    "        self.index = 0\n",
    "\n",
    "    def __next__(self):\n",
    "        if self.index >= self.max_times:\n",
    "            raise StopIteration\n",
    "        \n",
    "        value = self.data[self.index % len(self.data)]\n",
    "        self.index += 1\n",
    "        return value\n",
    "\n",
    "# 可走訪物件類別\n",
    "class CycleList():\n",
    "    def __init__(self, data, max_times):\n",
    "        self.data = data\n",
    "        self.max_times = max_times\n",
    "\n",
    "    def __iter__(self):\n",
    "        return CycleIterator(self.data, self.max_times)\n",
    "\n",
    "clist = CycleList(['a', 'b', 'c'], 5)\n",
    "for c in clist:\n",
    "    print(c)"
   ]
  },
  {
   "cell_type": "code",
   "execution_count": 58,
   "metadata": {},
   "outputs": [
    {
     "name": "stdout",
     "output_type": "stream",
     "text": [
      "a\n",
      "b\n",
      "c\n",
      "a\n",
      "b\n"
     ]
    }
   ],
   "source": [
    "# 用dataclass 改寫\n",
    "\n",
    "# 走訪器類別\n",
    "@dataclass\n",
    "class CycleIterator():\n",
    "    data: list\n",
    "    max_times: int\n",
    "\n",
    "    def __post_init__(self):\n",
    "        self.index = 0\n",
    "\n",
    "    def __next__(self):\n",
    "        if self.index >= self.max_times:\n",
    "            raise StopIteration\n",
    "        \n",
    "        value = self.data[self.index % len(self.data)]\n",
    "        self.index += 1\n",
    "        return value\n",
    "\n",
    "# 可走訪物件類別\n",
    "@dataclass\n",
    "class CycleList():\n",
    "    data: list\n",
    "    max_times: int\n",
    "\n",
    "    def __iter__(self):\n",
    "        return CycleIterator(self.data, self.max_times)\n",
    "\n",
    "clist = CycleList(['a', 'b', 'c'], 5)\n",
    "for c in clist:\n",
    "    print(c)"
   ]
  },
  {
   "cell_type": "markdown",
   "metadata": {},
   "source": [
    "### 48 檔案單字產生器"
   ]
  },
  {
   "cell_type": "code",
   "execution_count": 60,
   "metadata": {},
   "outputs": [
    {
     "name": "stdout",
     "output_type": "stream",
     "text": [
      "Beautiful\n",
      "is\n",
      "better\n",
      "than\n",
      "ugly\n",
      "Explicit\n",
      "is\n",
      "better\n",
      "than\n",
      "implicit\n"
     ]
    }
   ],
   "source": [
    "def word_generator(filename, max_words):\n",
    "    index = 0\n",
    "    with open(filename, 'r') as file:\n",
    "        for line in file:\n",
    "            for word in line.split():\n",
    "                if index >= max_words:\n",
    "                    return\n",
    "                yield word.replace('.', '')\n",
    "                index +=1\n",
    "\n",
    "ten_words = word_generator('../../data/text2.txt', 10)\n",
    "\n",
    "for word in ten_words:\n",
    "    print(word)"
   ]
  },
  {
   "cell_type": "markdown",
   "metadata": {},
   "source": [
    "### 49 產生器運算式"
   ]
  },
  {
   "cell_type": "code",
   "execution_count": 61,
   "metadata": {},
   "outputs": [
    {
     "name": "stdout",
     "output_type": "stream",
     "text": [
      "3\n",
      "1\n",
      "4\n",
      "1\n",
      "5\n",
      "9\n"
     ]
    }
   ],
   "source": [
    "def num_generator(num):\n",
    "    return (int(digit) for digit in str(num) if digit.isnumeric())\n",
    "\n",
    "numbers = num_generator(3.14159)\n",
    "\n",
    "for num in numbers:\n",
    "    print(num)"
   ]
  },
  {
   "cell_type": "markdown",
   "metadata": {},
   "source": [
    "### 50 能計算時間長度的產生器"
   ]
  },
  {
   "cell_type": "code",
   "execution_count": 63,
   "metadata": {},
   "outputs": [
    {
     "name": "stdout",
     "output_type": "stream",
     "text": [
      "8.00006091594696e-07\n",
      "0.5008918999810703\n",
      "0.1007876000367105\n",
      "0.8005411999765784\n",
      "0.500659600016661\n"
     ]
    }
   ],
   "source": [
    "import time, random\n",
    "\n",
    "def elapsed_time_gen():\n",
    "    last_time = time.perf_counter()\n",
    "    while True:\n",
    "        now = time.perf_counter()\n",
    "        yield now - last_time\n",
    "        last_time = now\n",
    "\n",
    "elapsed_time = elapsed_time_gen()\n",
    "\n",
    "for _ in range(5):\n",
    "    time.sleep(random.randint(1, 10) / 10)\n",
    "    print(next(elapsed_time))"
   ]
  }
 ],
 "metadata": {
  "kernelspec": {
   "display_name": "Python 3",
   "language": "python",
   "name": "python3"
  },
  "language_info": {
   "codemirror_mode": {
    "name": "ipython",
    "version": 3
   },
   "file_extension": ".py",
   "mimetype": "text/x-python",
   "name": "python",
   "nbconvert_exporter": "python",
   "pygments_lexer": "ipython3",
   "version": "3.13.0"
  }
 },
 "nbformat": 4,
 "nbformat_minor": 2
}
