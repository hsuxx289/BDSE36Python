{
 "cells": [
  {
   "cell_type": "markdown",
   "metadata": {},
   "source": [
    "## 數值處理"
   ]
  },
  {
   "cell_type": "markdown",
   "metadata": {},
   "source": [
    "### 01 猜數字"
   ]
  },
  {
   "cell_type": "code",
   "execution_count": 3,
   "metadata": {},
   "outputs": [
    {
     "name": "stdout",
     "output_type": "stream",
     "text": [
      "猜得太高，再試一次\n",
      "猜得太低，再試一次\n",
      "猜得太高，再試一次\n",
      "請輸入(0-99)之整數\n",
      "答對了！答案是30\n"
     ]
    }
   ],
   "source": [
    "import random\n",
    "\n",
    "def guessing_game():\n",
    "    answer = random.randint(0, 99)\n",
    "\n",
    "    while True:\n",
    "        num_str = input('請猜數字 (0-99)')\n",
    "\n",
    "        if num_str.isdigit():\n",
    "            num = int(num_str)\n",
    "\n",
    "            if num == answer:\n",
    "                print(f'答對了！答案是{answer}')\n",
    "                break\n",
    "            elif num > answer:\n",
    "                print('猜得太高，再試一次')\n",
    "            else:\n",
    "                print('猜得太低，再試一次')\n",
    "        \n",
    "        else:\n",
    "            print('請輸入(0-99)之整數')\n",
    "    \n",
    "\n",
    "guessing_game()"
   ]
  },
  {
   "cell_type": "markdown",
   "metadata": {},
   "source": [
    "### 02 加總"
   ]
  },
  {
   "cell_type": "code",
   "execution_count": 7,
   "metadata": {},
   "outputs": [
    {
     "name": "stdout",
     "output_type": "stream",
     "text": [
      "75\n",
      "85\n"
     ]
    }
   ],
   "source": [
    "def my_sum(*args, start=0):\n",
    "    \n",
    "    sum = 0\n",
    "    \n",
    "    for num in args:\n",
    "        sum += num\n",
    "    \n",
    "    return start + sum\n",
    "\n",
    "print(my_sum(10, 11, 12, 13, 14, 15))\n",
    "print(my_sum(10, 11, 12, 13, 14, 15, start=10))"
   ]
  },
  {
   "cell_type": "markdown",
   "metadata": {},
   "source": [
    "### 03 平均"
   ]
  },
  {
   "cell_type": "code",
   "execution_count": 5,
   "metadata": {},
   "outputs": [
    {
     "name": "stdout",
     "output_type": "stream",
     "text": [
      "could not convert string to float: '2e'\n",
      "跑 1 次的平均時間為 50.00 分鐘\n"
     ]
    }
   ],
   "source": [
    "def run_timing():\n",
    "    count = 0\n",
    "    time_sum = 0.0\n",
    "    \n",
    "    while time := input(\"輸入跑 10 公里時間: (直接按 Enter 結束)\"):\n",
    "\n",
    "        try:\n",
    "            time = float(time)\n",
    "            time_sum += time\n",
    "            count += 1\n",
    "        except Exception as e:\n",
    "            print(e)\n",
    "\n",
    "    if count > 0:\n",
    "        avg_time = time_sum / count\n",
    "    else:\n",
    "        avg_time = 0.0\n",
    "\n",
    "    print(f'跑 {count} 次的平均時間為 {avg_time:.2f} 分鐘')\n",
    "\n",
    "run_timing()"
   ]
  },
  {
   "cell_type": "markdown",
   "metadata": {},
   "source": [
    "### 04 將16進位轉為10進位"
   ]
  },
  {
   "cell_type": "code",
   "execution_count": null,
   "metadata": {},
   "outputs": [
    {
     "name": "stdout",
     "output_type": "stream",
     "text": [
      "十進位結果: 42\n"
     ]
    }
   ],
   "source": [
    "def hex_to_dec():\n",
    "    hex = input('輸入 16 進位數字')\n",
    "    dec = 0\n",
    "\n",
    "    for power, digit in enumerate(reversed(hex)):\n",
    "        if digit.isdigit():\n",
    "            digit = int(digit)\n",
    "        else:\n",
    "            digit = ord(digit.upper()) - ord('A') + 10\n",
    "\n",
    "        dec += digit * (16 ** power)\n",
    "\n",
    "    print(f'十進位結果: {dec}')\n",
    "\n",
    "hex_to_dec()\n",
    "\n",
    "'''\n",
    "hex = '0x2A'\n",
    "\n",
    "dec = int(hex, 16)\n",
    "\n",
    "dec\n",
    "'''"
   ]
  },
  {
   "cell_type": "markdown",
   "metadata": {},
   "source": [
    "## 字串處理"
   ]
  },
  {
   "cell_type": "markdown",
   "metadata": {},
   "source": [
    "### 05 豬拉丁文"
   ]
  },
  {
   "cell_type": "code",
   "execution_count": 12,
   "metadata": {},
   "outputs": [
    {
     "name": "stdout",
     "output_type": "stream",
     "text": [
      "ythonpay\n"
     ]
    }
   ],
   "source": [
    "def pig_latin(word):\n",
    "    if word[0] in 'aeiou':\n",
    "        return f'{word}way'\n",
    "    else:\n",
    "        return f'{word[1:]}{word[0]}ay'\n",
    "\n",
    "print(pig_latin('python'))"
   ]
  },
  {
   "cell_type": "markdown",
   "metadata": {},
   "source": [
    "### 06 豬拉丁文 - 句子翻譯機"
   ]
  },
  {
   "cell_type": "code",
   "execution_count": null,
   "metadata": {},
   "outputs": [
    {
     "name": "stdout",
     "output_type": "stream",
     "text": [
      "histay isway away esttay\n"
     ]
    }
   ],
   "source": [
    "def pl_sentence(sentence):\n",
    "    output = []\n",
    "    \n",
    "    for word in sentence.lower().split():\n",
    "        if word[0] in 'aeiou':\n",
    "            output.append(f'{word}way')\n",
    "        else:\n",
    "            output.append(f'{word[1:]}{word[0]}ay')\n",
    "\n",
    "    return ' '.join(output)\n",
    "\n",
    "print(pl_sentence('this is a test'))"
   ]
  },
  {
   "cell_type": "markdown",
   "metadata": {},
   "source": [
    "### 07 ROT13 加密法"
   ]
  },
  {
   "cell_type": "code",
   "execution_count": null,
   "metadata": {},
   "outputs": [
    {
     "name": "stdout",
     "output_type": "stream",
     "text": [
      "nccyr\n"
     ]
    }
   ],
   "source": [
    "def rot13(word):\n",
    "    output = []\n",
    "\n",
    "    for char in word.lower():\n",
    "        char_rot13 = ord(char) + 13\n",
    "\n",
    "        if char_rot13 > ord('z'):\n",
    "            char_rot13 -= 26\n",
    "        \n",
    "        output.append(chr(char_rot13))\n",
    "    \n",
    "    return ''.join(output)\n",
    "\n",
    "print(rot13('apple'))\n",
    "\n",
    "'''\n",
    "# python 內建有支援此加密法\n",
    "import codecs\n",
    "\n",
    "print(codecs.encode('apple', 'rot_13))\n",
    "'''"
   ]
  },
  {
   "cell_type": "markdown",
   "metadata": {},
   "source": [
    "### 08 字元排序"
   ]
  },
  {
   "cell_type": "code",
   "execution_count": null,
   "metadata": {},
   "outputs": [
    {
     "name": "stdout",
     "output_type": "stream",
     "text": [
      "hnoPty\n"
     ]
    }
   ],
   "source": [
    "def strsort(word):\n",
    "    return ''.join(sorted(word, key=str.lower))\n",
    "\n",
    "print(strsort('Python'))"
   ]
  },
  {
   "cell_type": "markdown",
   "metadata": {},
   "source": [
    "## list 與 tuple"
   ]
  },
  {
   "cell_type": "markdown",
   "metadata": {},
   "source": [
    "### 09 擷取與合併多種容器的頭尾元素"
   ]
  },
  {
   "cell_type": "code",
   "execution_count": 4,
   "metadata": {},
   "outputs": [
    {
     "name": "stdout",
     "output_type": "stream",
     "text": [
      "ae\n",
      "[1, 5]\n"
     ]
    }
   ],
   "source": [
    "def first_last(seq):\n",
    "    return seq[:1] + seq[-1:]\n",
    "\n",
    "print(first_last(('abcde')))\n",
    "print(first_last([1, 2, 3, 4, 5]))"
   ]
  },
  {
   "cell_type": "markdown",
   "metadata": {},
   "source": [
    "### 10 萬用加總函式"
   ]
  },
  {
   "cell_type": "code",
   "execution_count": 10,
   "metadata": {},
   "outputs": [
    {
     "name": "stdout",
     "output_type": "stream",
     "text": [
      "()\n",
      "100\n",
      "abcde\n",
      "[10, 20, 30, 40, 50, 60]\n",
      "{'A': 1, 'B': 2, 'C': 3}\n"
     ]
    }
   ],
   "source": [
    "def mysum(*items):\n",
    "    \n",
    "    if not items:\n",
    "        return items\n",
    "    \n",
    "    output = items[0]\n",
    "\n",
    "    for item in items[1:]:\n",
    "        if isinstance(item, dict):\n",
    "            output.update(item)\n",
    "        else:\n",
    "            output += item\n",
    "    return output\n",
    "\n",
    "print(mysum())\n",
    "print(mysum(10, 20, 30, 40))\n",
    "print(mysum('abc', 'd', 'e'))\n",
    "print(mysum([10, 20, 30], [40, 50], [60]))\n",
    "print(mysum({'A': 1, 'B': 2}, {'C': 3}))"
   ]
  },
  {
   "cell_type": "markdown",
   "metadata": {},
   "source": [
    "### 11 依姓名排序聯絡資料"
   ]
  },
  {
   "cell_type": "code",
   "execution_count": 20,
   "metadata": {},
   "outputs": [
    {
     "name": "stdout",
     "output_type": "stream",
     "text": [
      "Ardern, Jacinda: primeminister@newzealand.gov\n",
      "Biden, Joe: president@usa.gov\n",
      "Macron, Emmanuel: president@france.gov\n",
      "Merkel, Angela: primeminister@germany.gov\n",
      "Trudeau, Justin: primeminister@cananda.gov\n"
     ]
    }
   ],
   "source": [
    "def alphabetize_names(people):\n",
    "\n",
    "    for person in sorted(people, key=lambda x:x[1]):\n",
    "        print(f'{person[1]}, {person[0]}: {person[2]}')\n",
    "\n",
    "    # import operator\n",
    "    # for person in sorted(people, key=operator.itemgetter(1)):\n",
    "    #     print(f'{person[1]}, {person[0]}: {person[2]}')\n",
    "\n",
    "people = {\n",
    "    ('Joe', 'Biden', 'president@usa.gov'),\n",
    "    ('Emmanuel', 'Macron', 'president@france.gov'),\n",
    "    ('Justin', 'Trudeau', 'primeminister@cananda.gov'),\n",
    "    ('Angela', 'Merkel', 'primeminister@germany.gov'),\n",
    "    ('Jacinda', 'Ardern', 'primeminister@newzealand.gov')\n",
    "}\n",
    "\n",
    "alphabetize_names(people)"
   ]
  },
  {
   "cell_type": "markdown",
   "metadata": {},
   "source": [
    "### 12 用排版格式輸出資料"
   ]
  },
  {
   "cell_type": "code",
   "execution_count": null,
   "metadata": {},
   "outputs": [
    {
     "name": "stdout",
     "output_type": "stream",
     "text": [
      "Letterman   Cindy     93\n",
      "Williams    Eddie     91\n",
      "Wooding     Alice     89\n",
      "Johnson     Bob       86\n",
      "Moor        David     86\n"
     ]
    }
   ],
   "source": [
    "def sorted_grades(grades):\n",
    "    grades.sort(key=lambda x:x[2], reverse=True)\n",
    "    output = []\n",
    "    for first, last, grade in grades:\n",
    "        output.append(f'{last:12s}{first:10s}{grade}')\n",
    "\n",
    "    return '\\n'.join(output)\n",
    "\n",
    "# import operator\n",
    "# def sorted_grades(grades):\n",
    "#     grades.sort(key=operator.itemgetter(2), reverse=True)\n",
    "#     output = []\n",
    "#     for grade in grades:\n",
    "#         output.append('{1:12s}{0:10s}{2}'.format(*grade))\n",
    "\n",
    "#     return '\\n'.join(output)\n",
    "\n",
    "grades = [\n",
    "    ('Alice', 'Wooding', 89),\n",
    "    ('Bob', 'Johnson', 86),\n",
    "    ('Cindy', 'Letterman', 93),\n",
    "    ('David', 'Moor', 86),\n",
    "    ('Eddie', 'Williams', 91),\n",
    "]\n",
    "\n",
    "print(sorted_grades(grades))"
   ]
  },
  {
   "cell_type": "markdown",
   "metadata": {},
   "source": [
    "### 13 尋找單字中重複最多次的字母"
   ]
  },
  {
   "cell_type": "code",
   "execution_count": null,
   "metadata": {},
   "outputs": [
    {
     "name": "stdout",
     "output_type": "stream",
     "text": [
      "e 重複了 4 次\n"
     ]
    }
   ],
   "source": [
    "def most_repeated_letter(word):\n",
    "    chr = list(set(word))\n",
    "    chr_count = []\n",
    "    \n",
    "    for c in chr:\n",
    "        chr_count.append((c, word.count(c)))\n",
    "    \n",
    "    result = sorted(chr_count, key= lambda x:x[1])[-1]\n",
    "    print('{0} 重複了 {1} 次'.format(*result))\n",
    "\n",
    "word = 'independence'\n",
    "\n",
    "# import operator\n",
    "# from collections import Counter\n",
    "\n",
    "# def most_repeated_letter(word):\n",
    "#     result = Counter(word).most_common(1)[0]\n",
    "#     print('{0} 重複了 {1} 次'.format(*result))\n",
    "\n",
    "\n",
    "most_repeated_letter(word)"
   ]
  },
  {
   "cell_type": "markdown",
   "metadata": {},
   "source": [
    "## dict 與 set"
   ]
  },
  {
   "cell_type": "markdown",
   "metadata": {},
   "source": [
    "### 14 餐廳點餐機"
   ]
  },
  {
   "cell_type": "code",
   "execution_count": 2,
   "metadata": {},
   "outputs": [
    {
     "name": "stdout",
     "output_type": "stream",
     "text": [
      "三明治 50 元, 總金額 50 元\n",
      "咖啡 40 元, 總金額 90 元\n",
      "沙拉 30 元, 總金額 120 元\n",
      "抱歉! 我們沒有供應貝果\n",
      "您的帳單為 120 元\n"
     ]
    }
   ],
   "source": [
    "menu = {'三明治': 50,\n",
    "        '咖啡': 40,\n",
    "        '沙拉': 30}\n",
    "\n",
    "def order_meal():\n",
    "    total = 0\n",
    "    \n",
    "    while order := input(\"請點餐:\"):\n",
    "        \n",
    "        if order in menu:\n",
    "            price = menu[order]\n",
    "            total += price\n",
    "            print(f'{order} {price} 元, 總金額 {total} 元')\n",
    "\n",
    "        else:\n",
    "            print(f'抱歉! 我們沒有供應{order}')\n",
    "\n",
    "    print(f'您的帳單為 {total} 元')\n",
    "\n",
    "order_meal()"
   ]
  },
  {
   "cell_type": "markdown",
   "metadata": {},
   "source": [
    "### 15 降雨量資料庫"
   ]
  },
  {
   "cell_type": "code",
   "execution_count": null,
   "metadata": {},
   "outputs": [
    {
     "name": "stdout",
     "output_type": "stream",
     "text": [
      "紐約: 10 mm\n",
      "波士頓: 6 mm\n",
      "華府: 3 mm\n"
     ]
    }
   ],
   "source": [
    "def record_rainfall():\n",
    "    rainfall = {}\n",
    "\n",
    "    while True:\n",
    "        city = input('輸入城市: ')\n",
    "        if not city:\n",
    "            break\n",
    "        \n",
    "        rain_mm = input('輸入雨量(mm): ')\n",
    "        if not rain_mm:\n",
    "            rain_mm = 0\n",
    "\n",
    "        rainfall[city] = rainfall.get(city, 0) + int(rain_mm)\n",
    "\n",
    "    for city, rain in rainfall.items():\n",
    "        print(f'{city}: {rain} mm')\n",
    "\n",
    "# from collections import defaultdict\n",
    "\n",
    "# def record_rainfall():\n",
    "#     rainfall = defaultdict(int)\n",
    "\n",
    "#     while True:\n",
    "#         if not (city := input('輸入城市: ')):\n",
    "#             break\n",
    "#         if not (rain_mm := input('輸入雨量(mm): ')):\n",
    "#             rain_mm = 0\n",
    "\n",
    "#         rainfall[city] += int(rain_mm)\n",
    "\n",
    "#     for city, rain in rainfall.items():\n",
    "#         print(f'{city}: {rain} mm')\n",
    "\n",
    "record_rainfall()"
   ]
  },
  {
   "cell_type": "markdown",
   "metadata": {},
   "source": [
    "### 16 有幾個不重複的數字"
   ]
  },
  {
   "cell_type": "code",
   "execution_count": 4,
   "metadata": {},
   "outputs": [
    {
     "name": "stdout",
     "output_type": "stream",
     "text": [
      "不重複數字共 4 個\n"
     ]
    }
   ],
   "source": [
    "def unique_num_len(numbers):\n",
    "    print(f'不重複數字共 {len(set(numbers))} 個')\n",
    "\n",
    "numbers = [1, 2, 3, 1, 2, 3, 4, 1, 2]\n",
    "unique_num_len(numbers)"
   ]
  },
  {
   "cell_type": "markdown",
   "metadata": {},
   "source": [
    "### 17 比較兩個dict 的差異"
   ]
  },
  {
   "cell_type": "code",
   "execution_count": 7,
   "metadata": {},
   "outputs": [
    {
     "name": "stdout",
     "output_type": "stream",
     "text": [
      "{'c': [3, None], 'd': [5, 4], 'e': [None, 6]}\n"
     ]
    }
   ],
   "source": [
    "def diff_dict(first, second):\n",
    "    output = {}\n",
    "    all_keys = sorted(first.keys() | second.keys())\n",
    "\n",
    "    for key in all_keys:\n",
    "        if first.get(key) != second.get(key):\n",
    "            output[key] = [first.get(key), second.get(key)]\n",
    "    \n",
    "    return output\n",
    "\n",
    "d1 = {'a': 1, 'b': 2, 'c' : 3, 'd' : 5}\n",
    "d2 = {'a': 1, 'b': 2, 'd' : 4, 'e' : 6}\n",
    "print(diff_dict(d1, d2))"
   ]
  },
  {
   "cell_type": "markdown",
   "metadata": {},
   "source": [
    "## 檔案處理"
   ]
  },
  {
   "cell_type": "code",
   "execution_count": null,
   "metadata": {},
   "outputs": [],
   "source": []
  }
 ],
 "metadata": {
  "kernelspec": {
   "display_name": "Python 3",
   "language": "python",
   "name": "python3"
  },
  "language_info": {
   "codemirror_mode": {
    "name": "ipython",
    "version": 3
   },
   "file_extension": ".py",
   "mimetype": "text/x-python",
   "name": "python",
   "nbconvert_exporter": "python",
   "pygments_lexer": "ipython3",
   "version": "3.13.0"
  }
 },
 "nbformat": 4,
 "nbformat_minor": 2
}
