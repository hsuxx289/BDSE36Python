{
 "cells": [
  {
   "cell_type": "markdown",
   "metadata": {},
   "source": [
    "### `json` 套件"
   ]
  },
  {
   "cell_type": "markdown",
   "metadata": {},
   "source": [
    "| 用法 | 說明 |\n",
    "|:--:|:--:|\n",
    "| |物件轉JSON並寫入文件|\n",
    "| |物件轉JSON字串|\n",
    "| |讀取JSON文件|\n",
    "| |將JSON字串轉成Python物件|"
   ]
  },
  {
   "cell_type": "code",
   "execution_count": 1,
   "metadata": {},
   "outputs": [],
   "source": [
    "import json\n",
    "fruit_dict = {    \n",
    "    'apple': {\n",
    "        'price': 100,\n",
    "        'quantity': 50,\n",
    "        'color': ['green', 'red']\n",
    "    },\n",
    "    'orange': {\n",
    "        'price': 50,\n",
    "        'quantity': 30,\n",
    "        'color': ['orange']\n",
    "    }\n",
    "}\n",
    "with open(\"fruit.json\", 'w', encoding=\"utf-8\" ) as f:\n",
    "    json.dump(fruit_dict, f, indent = 4)"
   ]
  },
  {
   "cell_type": "code",
   "execution_count": 3,
   "metadata": {},
   "outputs": [],
   "source": [
    "with open(\"fruit2.json\", 'w', encoding=\"utf-8\" ) as f:\n",
    "    f.write(json.dumps(fruit_dict, indent = 4))"
   ]
  },
  {
   "cell_type": "code",
   "execution_count": 4,
   "metadata": {},
   "outputs": [
    {
     "name": "stdout",
     "output_type": "stream",
     "text": [
      "{'apple': {'price': 100, 'quantity': 50, 'color': ['green', 'red']}, 'orange': {'price': 50, 'quantity': 30, 'color': ['orange']}}\n",
      "{'price': 100, 'quantity': 50, 'color': ['green', 'red']}\n"
     ]
    }
   ],
   "source": [
    "with open(\"fruit2.json\", 'r', encoding=\"utf-8\" ) as f:\n",
    "    data = json.load(f)\n",
    "\n",
    "print(data)\n",
    "print(data[\"apple\"])"
   ]
  },
  {
   "cell_type": "code",
   "execution_count": 7,
   "metadata": {},
   "outputs": [
    {
     "name": "stdout",
     "output_type": "stream",
     "text": [
      "{'apple': {'price': 100, 'quantity': 50, 'color': ['green', 'red']}, 'orange': {'price': 50, 'quantity': 30, 'color': ['orange']}}\n",
      "{'price': 100, 'quantity': 50, 'color': ['green', 'red']}\n"
     ]
    }
   ],
   "source": [
    "with open(\"fruit2.json\", 'r', encoding=\"utf-8\" ) as f:\n",
    "    data = f.read()\n",
    "\n",
    "data_dict = json.loads(data)\n",
    "print(data_dict)\n",
    "print(data_dict[\"apple\"])"
   ]
  }
 ],
 "metadata": {
  "kernelspec": {
   "display_name": "Python 3",
   "language": "python",
   "name": "python3"
  },
  "language_info": {
   "codemirror_mode": {
    "name": "ipython",
    "version": 3
   },
   "file_extension": ".py",
   "mimetype": "text/x-python",
   "name": "python",
   "nbconvert_exporter": "python",
   "pygments_lexer": "ipython3",
   "version": "3.13.0"
  }
 },
 "nbformat": 4,
 "nbformat_minor": 2
}
