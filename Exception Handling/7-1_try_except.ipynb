{
 "cells": [
  {
   "cell_type": "markdown",
   "metadata": {},
   "source": [
    "##### try...except..."
   ]
  },
  {
   "cell_type": "code",
   "execution_count": null,
   "metadata": {},
   "outputs": [],
   "source": [
    "# 可以連續定義數個例外處理機制\n",
    "# 最符合的例外事件類別會先拋出\n",
    "\n"
   ]
  },
  {
   "cell_type": "code",
   "execution_count": null,
   "metadata": {},
   "outputs": [],
   "source": [
    "# 多層例外處理:\n",
    "\n"
   ]
  },
  {
   "cell_type": "markdown",
   "metadata": {},
   "source": [
    "##### try...except...else...finally"
   ]
  },
  {
   "cell_type": "code",
   "execution_count": null,
   "metadata": {},
   "outputs": [],
   "source": [
    "# 如果沒有錯誤，就會執行 else 程式區塊\n",
    "# finally 程式區塊是無論有無錯誤，都會執行\n",
    "try:\n",
    "    x = 5\n",
    "    print(f\"1. x 一開始是: {x}\")\n",
    "    print(z)\n",
    "\n",
    "\n",
    "\n",
    "except NameError:\n",
    "    print(\"2.變數尚未宣告\")\n",
    "\n",
    "\n",
    "else:\n",
    "    x += 5\n",
    "    print(\"3.沒有例外發生才會執行\")\n",
    "\n",
    "\n",
    "finally:\n",
    "    # print(f\"Finally x:{x}\")\n",
    "    print(\"4.程式結束\")\n",
    "\n"
   ]
  }
 ],
 "metadata": {
  "language_info": {
   "name": "python"
  }
 },
 "nbformat": 4,
 "nbformat_minor": 2
}
