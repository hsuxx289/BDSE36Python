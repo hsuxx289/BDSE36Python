{
 "cells": [
  {
   "cell_type": "markdown",
   "metadata": {},
   "source": [
    "##### 將 data.txt 的資料分類成另外三個檔案，分別為 cc.txt 、 css.txt 、 c.txt  "
   ]
  },
  {
   "cell_type": "code",
   "execution_count": null,
   "metadata": {},
   "outputs": [
    {
     "name": "stdout",
     "output_type": "stream",
     "text": [
      "['abc0182.cc', 'abc0102.cc', 'abc0281.cc', 'abc0134.c', 'abc0238.cc', 'abc0244.c', 'abc0157.css', 'abc0116.c', 'abc0245.cc', 'abc0187.cc', 'abc0202.c', 'abc0285.cc', 'abc0220.cc', 'abc0174.css', 'abc0140.c', 'abc0176.c', 'abc0174.css', 'abc0244.css', 'abc0289.css', 'abc0175.c']\n"
     ]
    }
   ],
   "source": [
    "with open(file=\"data.txt\", mode=\"r\", encoding=\"utf-8\") as f:\n",
    "    text_list = f.read()\n",
    "    text_list_new = text_list.split('\\n')\n",
    "    print(text_list_new)\n",
    "    for i in text_list_new:\n",
    "        if i[-3:] == 'css':\n",
    "            with open(file=\"css.txt\", mode=\"a\") as f:\n",
    "                f.write(i + '\\n')\n",
    "        elif i[-2:] == 'cc':\n",
    "            with open(file=\"cc.txt\", mode=\"a\") as f:\n",
    "                f.write(i + '\\n')\n",
    "        elif i[-1] == 'c':\n",
    "            with open(file=\"c.txt\", mode=\"a\") as f:\n",
    "                f.write(i)\n",
    "                f.write(i + '\\n')"
   ]
  }
 ],
 "metadata": {
  "kernelspec": {
   "display_name": "Python 3",
   "language": "python",
   "name": "python3"
  },
  "language_info": {
   "codemirror_mode": {
    "name": "ipython",
    "version": 3
   },
   "file_extension": ".py",
   "mimetype": "text/x-python",
   "name": "python",
   "nbconvert_exporter": "python",
   "pygments_lexer": "ipython3",
   "version": "3.13.0"
  }
 },
 "nbformat": 4,
 "nbformat_minor": 2
}
